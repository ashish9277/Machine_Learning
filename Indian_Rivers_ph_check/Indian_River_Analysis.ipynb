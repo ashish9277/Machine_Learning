{
 "cells": [
  {
   "cell_type": "code",
   "execution_count": 1,
   "metadata": {
    "collapsed": true
   },
   "outputs": [],
   "source": [
    "import numpy as np\n",
    "import pandas as pd\n",
    "import seaborn as sns"
   ]
  },
  {
   "cell_type": "code",
   "execution_count": 2,
   "metadata": {
    "collapsed": true
   },
   "outputs": [],
   "source": [
    "import matplotlib.pyplot as plt\n",
    "%matplotlib inline"
   ]
  },
  {
   "cell_type": "code",
   "execution_count": 39,
   "metadata": {
    "collapsed": false
   },
   "outputs": [],
   "source": [
    "river_data = pd.read_csv(\"River_Data.csv\")"
   ]
  },
  {
   "cell_type": "code",
   "execution_count": 40,
   "metadata": {
    "collapsed": false
   },
   "outputs": [
    {
     "name": "stdout",
     "output_type": "stream",
     "text": [
      "                  Category                     Parameter        2001  \\\n",
      "0        Ganga, 2525*, 57#                     Temp (0C)     10.1-33   \n",
      "1        Ganga, 2525*, 57#                            pH     6.1-9.0   \n",
      "2        Ganga, 2525*, 57#       Conductivity (�mhos/cm)     75-4910   \n",
      "3        Ganga, 2525*, 57#                      DO(mg/I)    1.2-11.4   \n",
      "4        Ganga, 2525*, 57#                     BOD(mg/I)    0.2-16.5   \n",
      "5        Ganga, 2525*, 57#                     COD(mg/I)      5-59.0   \n",
      "6        Ganga, 2525*, 57#    Total Coliform(MPN/100 ml)   80-35x105   \n",
      "7        Ganga, 2525*, 57#  Faecal Coliform (MPN/100 ml)    8-25x105   \n",
      "8       Yamuna, 1376*, 27#                     Temp (0C)       10-33   \n",
      "9       Yamuna, 1376*, 27#                            pH       6.1-9   \n",
      "10      Yamuna, 1376*, 27#       Conductivity (�mhos/cm)     71-1714   \n",
      "11      Yamuna, 1376*, 27#                      DO(mg/I)      0.5-19   \n",
      "12      Yamuna, 1376*, 27#                     BOD(mg/I)      0.4-51   \n",
      "13      Yamuna, 1376*, 27#                     COD(mg/I)       5-144   \n",
      "14      Yamuna, 1376*, 27#    Total Coliform(MPN/100 ml)   14-86x105   \n",
      "15      Yamuna, 1376*, 27#  Faecal Coliform (MPN/100 ml)   11-91x105   \n",
      "16     Narmada, 1312*, 21#                     Temp (0C)       18-36   \n",
      "17     Narmada, 1312*, 21#                            pH       7-8.6   \n",
      "18     Narmada, 1312*, 21#       Conductivity (�mhos/cm)    101-1124   \n",
      "19     Narmada, 1312*, 21#                      DO(mg/I)     3.6-5.7   \n",
      "20     Narmada, 1312*, 21#                     BOD(mg/I)     0.3-5.7   \n",
      "21     Narmada, 1312*, 21#                     COD(mg/I)     10-66.6   \n",
      "22     Narmada, 1312*, 21#    Total Coliform(MPN/100 ml)      4-2400   \n",
      "23     Narmada, 1312*, 21#  Faecal Coliform (MPN/100 ml)        2-64   \n",
      "24    Godawari, 1465*, 35#                     Temp (0C)       20-33   \n",
      "25    Godawari, 1465*, 35#                            pH     6.9-8.8   \n",
      "26    Godawari, 1465*, 35#       Conductivity (�mhos/cm)    102-1240   \n",
      "27    Godawari, 1465*, 35#                      DO(mg/I)    1.2-11.5   \n",
      "28    Godawari, 1465*, 35#                     BOD(mg/I)      0.5-66   \n",
      "29    Godawari, 1465*, 35#                     COD(mg/I)    11.2-156   \n",
      "..                     ...                           ...         ...   \n",
      "35     Krishna, 1401*, 24#                      DO(mg/I)      2.6-10   \n",
      "36     Krishna, 1401*, 24#                     BOD(mg/I)    0.3-10.5   \n",
      "37     Krishna, 1401*, 24#                     COD(mg/I)        7-72   \n",
      "38     Krishna, 1401*, 24#    Total Coliform(MPN/100 ml)     17-2400   \n",
      "39     Krishna, 1401*, 24#  Faecal Coliform (MPN/100 ml)      3-1600   \n",
      "40      Cauvery, 800*, 29#                     Temp (0C)       22-39   \n",
      "41      Cauvery, 800*, 29#                            pH       7-8.9   \n",
      "42      Cauvery, 800*, 29#       Conductivity (�mhos/cm)     75-3460   \n",
      "43      Cauvery, 800*, 29#                      DO(mg/I)    0.0-17.9   \n",
      "44      Cauvery, 800*, 29#                     BOD(mg/I)      0.1-48   \n",
      "45      Cauvery, 800*, 29#                     COD(mg/I)        8-62   \n",
      "46      Cauvery, 800*, 29#    Total Coliform(MPN/100 ml)    20-16000   \n",
      "47      Cauvery, 800*, 29#  Faecal Coliform (MPN/100 ml)      3-5000   \n",
      "48     Mahanadi, 851*, 22#                     Temp (0C)       16-38   \n",
      "49     Mahanadi, 851*, 22#                            pH         7-9   \n",
      "50     Mahanadi, 851*, 22#       Conductivity (�mhos/cm)     92-3100   \n",
      "51     Mahanadi, 851*, 22#                      DO(mg/I)     5.1-8.8   \n",
      "52     Mahanadi, 851*, 22#                     BOD(mg/I)         1.5   \n",
      "53     Mahanadi, 851*, 22#                     COD(mg/I)      6.6-50   \n",
      "54     Mahanadi, 851*, 22#    Total Coliform(MPN/100 ml)    20-48000   \n",
      "55     Mahanadi, 851*, 22#  Faecal Coliform (MPN/100 ml)    23-23000   \n",
      "56  Brahmaputra, 916*, 10#                     Temp (0C)       17-33   \n",
      "57  Brahmaputra, 916*, 10#                            pH       7-8.4   \n",
      "58  Brahmaputra, 916*, 10#       Conductivity (�mhos/cm)      95-493   \n",
      "59  Brahmaputra, 916*, 10#                      DO(mg/I)      4-10.5   \n",
      "60  Brahmaputra, 916*, 10#                     BOD(mg/I)     0.4-3.7   \n",
      "61  Brahmaputra, 916*, 10#                     COD(mg/I)      5-37.4   \n",
      "62  Brahmaputra, 916*, 10#    Total Coliform(MPN/100 ml)  300-11x104   \n",
      "63  Brahmaputra, 916*, 10#  Faecal Coliform (MPN/100 ml)  300-24x104   \n",
      "64                     NaN                           NaN         NaN   \n",
      "\n",
      "           2002         2003         2004        2005         2006  \\\n",
      "0          3-34         4-34         5-35        4-39         9-33   \n",
      "1       6.4-9.0      6.8-8.9        7-8.8       6.1-9     7.0-8.88   \n",
      "2       19-2720      49-1323      72-4080     23-1696      97-5620   \n",
      "3      207-11.5         4-11     0.3-13.2    3.2-12.8     2.2-11.9   \n",
      "4      0.5-16.8       0.8-27     0.7-14.4    0.1-15.2     0.1-16.4   \n",
      "5          1.30       2-47.2          NaN    1.0-37.6       4-38.4   \n",
      "6    300-25x105    47-45x105    11-45x105   13-45x105     1-25x105   \n",
      "7     20-11x105    26-12x105     11-7x105   13-11x105    17-11x105   \n",
      "8          3-34         2-38         7-35       11-37         4-34   \n",
      "9       6.7-9.8       6.6-10        6.8-9     6.8-9.1     7.14-9.5   \n",
      "10      56-1959     45-.3500      76-2150     90-2290     220-1876   \n",
      "11     0.1-22.7     0.3-22.8     0.3-19.5    0.5-17.3     1.3-18.8   \n",
      "12       1.0-36         1-58         1-40      0.8-59      1.0-144   \n",
      "13        1-112        1-187          NaN       1-180        4-240   \n",
      "14  27-26.3x106  110-171x107  21-1103x106  14-307x106    7-231x107   \n",
      "15  11-11.2x105   40-203x106    18-62x106   11-52x105     2-13x106   \n",
      "16          NaN        12-31        15-34       21-30         9-32   \n",
      "17      6.9-9.3      7.1-8.5        7-8.6       3.3-9      7.1-8.6   \n",
      "18     102-1341       95-441      181-815    190-1746      188-682   \n",
      "19      5.8-9.8      4.5-9.5      5.5-9.6    4.8-10.9       6.2-11   \n",
      "20      0.1-3.8      0.4-3.3      0.2-3.8     0.6-4.5      0.4-3.7   \n",
      "21         6-47         7-29          NaN     12-18.3         3-50   \n",
      "22       9-2400       4-1600       3-2400      3-2400       3-2400   \n",
      "23         2-64        1-110         2-15       2-210         0-39   \n",
      "24        22-35        22-37        21-35       23-32        19-34   \n",
      "25          7-9      7.1-8.7        6.5-9     6.7-9.1    6.65-9.11   \n",
      "26     111-1400     115-1350      86-1290    121-1300       75-691   \n",
      "27     3.1-10.9      3.2-9.3      2.4-9.2     0.8-8.7      1.1-9.6   \n",
      "28       0.5-78       1.7-53       0.2-15      0.5-20       1.2-32   \n",
      "29         3-96        5-188          NaN       4 -80         3-36   \n",
      "..          ...          ...          ...         ...          ...   \n",
      "35     2.9-10.9     0.7-12.6      0.4-9.2     1.4-8.8      3.0-8.5   \n",
      "36       0.2-10       0.5-17        0.3-9      0.4-40     0.4-14.8   \n",
      "37         3-88      10.5-68          NaN       4 -44      4 -32.4   \n",
      "38     17-33300      6-7x104   15-124x103   17-84x103    4 -86x103   \n",
      "39      3-1x103      2-2x104     3-28x103    1-34x103      1-6x103   \n",
      "40        21-37         8-34        19-35       20-37        20-34   \n",
      "41        2-9.2        7-9.2        6.6-9     6.2-9.5        7-9.3   \n",
      "42     31-53100     42-57200     35-39720    28-48700      26-1694   \n",
      "43     0.1-12.6     2.1-13.5      3.3-9.9     0.3-9.8      2.7-8.9   \n",
      "44     0.1-26.6       0.2-10          1-9        1-12          1-6   \n",
      "45         0-30       16-128          NaN       16-96         8-24   \n",
      "46    39-16x103     4-22x103      2-5x104      2-9500      90-3500   \n",
      "47     2-28x103      2-4x103     2-17x103     1-3x103       3-1400   \n",
      "48        18-38        17-37        17-34       22-34        20-32   \n",
      "49      7.3-8.9      6.5-8.6      6.3-8.8     6.1-8.7     6.97-8.9   \n",
      "50     27-15940     77-83600    105-20700    75-36279    113-34587   \n",
      "51     1.3-10.4     4.7-10.1     4.4 -9.4      4.5-10      4.7-8.5   \n",
      "52        1-7.6      0.3-5.6        0.2-4      0.2-16      0.2-3.8   \n",
      "53         7-39        10-70          NaN      4 -150        20-40   \n",
      "54     15-30000    4 -35x103     3-92x103    3-92x103   14 -92x103   \n",
      "55     50-17000    50-28x103    27-24x103   78-54x103    68-54x103   \n",
      "56        15-32        14-32        15-34         NaN        18-30   \n",
      "57        6.5-9      6.4-8.4        5.2-9     5.9-7.6        6.9-8   \n",
      "58     104 -684       77.570       91.445      20.408       55.485   \n",
      "59     1.1-10.5     1.2-11.5      1.1-9.4      2-10.5     4.2-10.2   \n",
      "60      0.1-3.9      0.4-3.5      0.4-4.3     0.3-6.2      0.3-5.7   \n",
      "61         6-11     4.8-27.4          NaN         NaN       3-47.2   \n",
      "62   360-240000   360-24x104   360-24x104         NaN     1-24x104   \n",
      "63     30024000   300-24x104   300-24x104  150-24x104  300-24 x104   \n",
      "64          NaN          NaN          NaN         NaN          NaN   \n",
      "\n",
      "          2007        2008        2009        2010         2011  Unnamed: 13  \\\n",
      "0         4-33    2.5-35.5        4-37        4-35       3 - 37          NaN   \n",
      "1      6.1-8.8     6.1-8.9     6.5-8.9     6.7-9.0    6.7 - 9.1          NaN   \n",
      "2      23-5040     39-6320     68-4460     21-5250   49 - 10240          NaN   \n",
      "3       1.4-11    1.2-11.6    4.3-11.2      3.6-12      4 -14.3          NaN   \n",
      "4         0-14      1.0-36      0.2-16      0.2-15       0.2-11          NaN   \n",
      "5       2.6-30        1-34      2-34.2         NaN          NaN          NaN   \n",
      "6     0-28x105   0-101x105    2.65x104    3-14x105   5 - 25x105          NaN   \n",
      "7      0-7x105    0-85x104     0-4x105     2-4x105     5-11x105          NaN   \n",
      "8       6.5-34      7.5-32        5-35        5-35       4 - 38          NaN   \n",
      "9        5-8.4     6.8-9.5     7.0-8.8    6.1 -9.4    6.9 - 8.8          NaN   \n",
      "10     57-1940     40-3340     80-3040    100-2220    60 - 1905          NaN   \n",
      "11      0-17.7    0.0-20.6    0.0-17.9    0.0-21.1         0-17          NaN   \n",
      "12        0-93    0.4-70.0     0.2-103       08-84     0.2 - 41          NaN   \n",
      "13     1.0-407       1-224       2-115         NaN          NaN          NaN   \n",
      "14    0-32x107   0-103x106    4-23x109  13 -39x107    10-16x108          NaN   \n",
      "15    0-23x106  11-109x105    9-21x108    9-29x106     4.11x108          NaN   \n",
      "16       19-31       14-32       17-33       19-39    14.7 - 38          NaN   \n",
      "17     7.5-8.8      6.8-10     6.5-8.9     7.2-8.5    7.1 - 8.6          NaN   \n",
      "18    244-1629     180-853    178-1930     194-727    217 - 651          NaN   \n",
      "19    6.2-10.4      4.9-13    4.2-11.5      4.8-11    6.2 - 9.9          NaN   \n",
      "20     1.2-3.5    0.2-11.4      0.2-30    0.21-5.4    0.8 - 5.0          NaN   \n",
      "21      3-19.3        5.46        6-60         NaN          NaN          NaN   \n",
      "22      7-1600      0-2400      2-1600   4 - 11000      4.-1600          NaN   \n",
      "23        0-15       0-140        0-90      0-4600         0-17          NaN   \n",
      "24       20-37       13-35       15-41       12-40        18-40          NaN   \n",
      "25     5.9-8.9     5.2-9.6       6-9.2     5.4-8.9      6.4-9.1          NaN   \n",
      "26     126-918    114-3994    115-3169     91-1670     132-1959          NaN   \n",
      "27     3.2-7.5    1.2-11.3    3.2-12.3    1.8-14.2    1.2- 12.2          NaN   \n",
      "28      0.2-36      0.2-20      0.0-26      0.3-60     0.0 - 37          NaN   \n",
      "29        2-16       4 -24      0.4-64         NaN          NaN          NaN   \n",
      "..         ...         ...         ...         ...          ...          ...   \n",
      "35      3.0-10     1.1-9.8      0-12.6    1.5-11.8   1.7 - 15.8          NaN   \n",
      "36     0.1-9.8    0.2-17.6     0.3-9.6        0-10      0.4 -16          NaN   \n",
      "37       4 -48       4 -40      4.0-45         NaN          NaN          NaN   \n",
      "38    0-71x103    8-16x103    8-170000      2-4000      4-16000          NaN   \n",
      "39      0-1600     0-3x103      0-1400      0-1600     2 - 9000          NaN   \n",
      "40       19-32       20-35       20-34       21-30        20-34          NaN   \n",
      "41     6.5-8.8     6.5-8.8     6.5-8.9     6.5-8.9      4.3-8.9          NaN   \n",
      "42    28-56500    27-28700    65-81800     18-8430       7-3640          NaN   \n",
      "43      0-12.4      0.6-14    1.5-10.3    0.4-12.2    1.7 -10.9          NaN   \n",
      "44      0.1-38      0.1-23      0.1-17      0.1-27     0.1 -7.2          NaN   \n",
      "45        8-45       10-45       12-48         NaN          NaN          NaN   \n",
      "46   40-28x103     27-5400      7-9200    70-15000      90-6200          NaN   \n",
      "47    4-17x103      0-3500      2-5400    20-12000      20-2200          NaN   \n",
      "48       26-33       18-36       17-39       17-39        18-36          NaN   \n",
      "49    7.3-8.54     6.7-8.8     6.7-8.8     7.0-9.3      7.1-8.5          NaN   \n",
      "50     102-813   109-29400   103-48830    93-42350     90-13190          NaN   \n",
      "51     6.2-8.9     0.8-8.9      0.2-11      4.4-11   4.9 - 10.5          NaN   \n",
      "52     1.2-3.6     0.2-4.6     0.2-7.1    0.2-14.3    0.6 - 3.6          NaN   \n",
      "53      2.8-30      3-87.4      3.2-28         NaN          NaN          NaN   \n",
      "54   27-35x103   15-16x104   5-1600000   10-160000  10 - 160000          NaN   \n",
      "55  700-17x103  310-54x103  110-160000    45-92000  78 - 160000          NaN   \n",
      "56       18-32       12-32       17-31       18-32      17 - 32          NaN   \n",
      "57     5.9-7.9     6.1-8.1     6.1-8.1     6.5-8.1     6.1 -8.5          NaN   \n",
      "58      76.645      75.460      69-303      49-371     68 - 238          NaN   \n",
      "59      5.1-10     3.3-9.6    4.4-10.5     3.6-9.4     4.4 - 30          NaN   \n",
      "60     0.1-3.4    0.4 -5.4     0.3-5.4     0.6-6.3    0.3 - 9.2          NaN   \n",
      "61    3.1-15.4    6.1-12.1    4.3-13.5         NaN          NaN          NaN   \n",
      "62    0-24x104    1-24x104     1-24000      0-3000    0 - 15000          NaN   \n",
      "63    0-24x104    0-24x103      0-1100       0-360      0 -1500          NaN   \n",
      "64         NaN         NaN         NaN         NaN          NaN          NaN   \n",
      "\n",
      "    Unnamed: 14  \n",
      "0           NaN  \n",
      "1           NaN  \n",
      "2           NaN  \n",
      "3           NaN  \n",
      "4           NaN  \n",
      "5           NaN  \n",
      "6           NaN  \n",
      "7           NaN  \n",
      "8           NaN  \n",
      "9           NaN  \n",
      "10          NaN  \n",
      "11          NaN  \n",
      "12          NaN  \n",
      "13          NaN  \n",
      "14          NaN  \n",
      "15          NaN  \n",
      "16          NaN  \n",
      "17          NaN  \n",
      "18          NaN  \n",
      "19          NaN  \n",
      "20          NaN  \n",
      "21          NaN  \n",
      "22          NaN  \n",
      "23          NaN  \n",
      "24          NaN  \n",
      "25          NaN  \n",
      "26          NaN  \n",
      "27          NaN  \n",
      "28          NaN  \n",
      "29          NaN  \n",
      "..          ...  \n",
      "35          NaN  \n",
      "36          NaN  \n",
      "37          NaN  \n",
      "38          NaN  \n",
      "39          NaN  \n",
      "40          NaN  \n",
      "41          NaN  \n",
      "42          NaN  \n",
      "43          NaN  \n",
      "44          NaN  \n",
      "45          NaN  \n",
      "46          NaN  \n",
      "47          NaN  \n",
      "48          NaN  \n",
      "49          NaN  \n",
      "50          NaN  \n",
      "51          NaN  \n",
      "52          NaN  \n",
      "53          NaN  \n",
      "54          NaN  \n",
      "55          NaN  \n",
      "56          NaN  \n",
      "57          NaN  \n",
      "58          NaN  \n",
      "59          NaN  \n",
      "60          NaN  \n",
      "61          NaN  \n",
      "62          NaN  \n",
      "63          NaN  \n",
      "64          NaN  \n",
      "\n",
      "[65 rows x 15 columns]\n"
     ]
    }
   ],
   "source": [
    "print river_data"
   ]
  },
  {
   "cell_type": "code",
   "execution_count": 7,
   "metadata": {
    "collapsed": true
   },
   "outputs": [],
   "source": [
    "temperature_river_data = river_data[river_data['Parameter'] == \"Temp (0C)\"]"
   ]
  },
  {
   "cell_type": "code",
   "execution_count": 8,
   "metadata": {
    "collapsed": false
   },
   "outputs": [
    {
     "name": "stdout",
     "output_type": "stream",
     "text": [
      "                  Category  Parameter     2001   2002   2003   2004   2005  \\\n",
      "0        Ganga, 2525*, 57#  Temp (0C)  10.1-33   3-34   4-34   5-35   4-39   \n",
      "8       Yamuna, 1376*, 27#  Temp (0C)    10-33   3-34   2-38   7-35  11-37   \n",
      "16     Narmada, 1312*, 21#  Temp (0C)    18-36    NaN  12-31  15-34  21-30   \n",
      "24    Godawari, 1465*, 35#  Temp (0C)    20-33  22-35  22-37  21-35  23-32   \n",
      "32     Krishna, 1401*, 24#  Temp (0C)    18-37  18-33  18-35  18-38  24-37   \n",
      "40      Cauvery, 800*, 29#  Temp (0C)    22-39  21-37   8-34  19-35  20-37   \n",
      "48     Mahanadi, 851*, 22#  Temp (0C)    16-38  18-38  17-37  17-34  22-34   \n",
      "56  Brahmaputra, 916*, 10#  Temp (0C)    17-33  15-32  14-32  15-34    NaN   \n",
      "\n",
      "     2006    2007      2008     2009   2010       2011  Unnamed: 13  \\\n",
      "0    9-33    4-33  2.5-35.5     4-37   4-35     3 - 37          NaN   \n",
      "8    4-34  6.5-34    7.5-32     5-35   5-35     4 - 38          NaN   \n",
      "16   9-32   19-31     14-32    17-33  19-39  14.7 - 38          NaN   \n",
      "24  19-34   20-37     13-35    15-41  12-40      18-40          NaN   \n",
      "32  15-40   13-38   17.3-39  18.4-41  17-39  19.2 - 38          NaN   \n",
      "40  20-34   19-32     20-35    20-34  21-30      20-34          NaN   \n",
      "48  20-32   26-33     18-36    17-39  17-39      18-36          NaN   \n",
      "56  18-30   18-32     12-32    17-31  18-32    17 - 32          NaN   \n",
      "\n",
      "    Unnamed: 14  \n",
      "0           NaN  \n",
      "8           NaN  \n",
      "16          NaN  \n",
      "24          NaN  \n",
      "32          NaN  \n",
      "40          NaN  \n",
      "48          NaN  \n",
      "56          NaN  \n"
     ]
    }
   ],
   "source": [
    "print temperature_river_data"
   ]
  },
  {
   "cell_type": "code",
   "execution_count": 9,
   "metadata": {
    "collapsed": true
   },
   "outputs": [],
   "source": [
    "ph_river_data = river_data[river_data['Parameter'] == \"pH\"]"
   ]
  },
  {
   "cell_type": "code",
   "execution_count": 10,
   "metadata": {
    "collapsed": false
   },
   "outputs": [
    {
     "name": "stdout",
     "output_type": "stream",
     "text": [
      "                  Category Parameter     2001     2002     2003     2004  \\\n",
      "1        Ganga, 2525*, 57#        pH  6.1-9.0  6.4-9.0  6.8-8.9    7-8.8   \n",
      "9       Yamuna, 1376*, 27#        pH    6.1-9  6.7-9.8   6.6-10    6.8-9   \n",
      "17     Narmada, 1312*, 21#        pH    7-8.6  6.9-9.3  7.1-8.5    7-8.6   \n",
      "25    Godawari, 1465*, 35#        pH  6.9-8.8      7-9  7.1-8.7    6.5-9   \n",
      "33     Krishna, 1401*, 24#        pH      7-9  6.8-9.5  6.7-8.9    6.7-9   \n",
      "41      Cauvery, 800*, 29#        pH    7-8.9    2-9.2    7-9.2    6.6-9   \n",
      "49     Mahanadi, 851*, 22#        pH      7-9  7.3-8.9  6.5-8.6  6.3-8.8   \n",
      "57  Brahmaputra, 916*, 10#        pH    7-8.4    6.5-9  6.4-8.4    5.2-9   \n",
      "\n",
      "       2005       2006      2007     2008     2009      2010       2011  \\\n",
      "1     6.1-9   7.0-8.88   6.1-8.8  6.1-8.9  6.5-8.9   6.7-9.0  6.7 - 9.1   \n",
      "9   6.8-9.1   7.14-9.5     5-8.4  6.8-9.5  7.0-8.8  6.1 -9.4  6.9 - 8.8   \n",
      "17    3.3-9    7.1-8.6   7.5-8.8   6.8-10  6.5-8.9   7.2-8.5  7.1 - 8.6   \n",
      "25  6.7-9.1  6.65-9.11   5.9-8.9  5.2-9.6    6-9.2   5.4-8.9    6.4-9.1   \n",
      "33  6.5-9.9  6.32-9.30   6.2-9.1  5.8-8.9  6.7-9.0   6.5-9.1   6.9 -8.7   \n",
      "41  6.2-9.5      7-9.3   6.5-8.8  6.5-8.8  6.5-8.9   6.5-8.9    4.3-8.9   \n",
      "49  6.1-8.7   6.97-8.9  7.3-8.54  6.7-8.8  6.7-8.8   7.0-9.3    7.1-8.5   \n",
      "57  5.9-7.6      6.9-8   5.9-7.9  6.1-8.1  6.1-8.1   6.5-8.1   6.1 -8.5   \n",
      "\n",
      "    Unnamed: 13  Unnamed: 14  \n",
      "1           NaN          NaN  \n",
      "9           NaN          NaN  \n",
      "17          NaN          NaN  \n",
      "25          NaN          NaN  \n",
      "33          NaN          NaN  \n",
      "41          NaN          NaN  \n",
      "49          NaN          NaN  \n",
      "57          NaN          NaN  \n"
     ]
    }
   ],
   "source": [
    "print ph_river_data"
   ]
  },
  {
   "cell_type": "code",
   "execution_count": 14,
   "metadata": {
    "collapsed": false
   },
   "outputs": [
    {
     "name": "stdout",
     "output_type": "stream",
     "text": [
      "Category\n",
      "Parameter\n",
      "2001\n",
      "2002\n",
      "2003\n",
      "2004\n",
      "2005\n",
      "2006\n",
      "2007\n",
      "2008\n",
      "2009\n",
      "2010\n",
      "2011\n",
      "Unnamed: 13\n",
      "Unnamed: 14\n"
     ]
    }
   ],
   "source": [
    "for river in ph_river_data:\n",
    "    print river"
   ]
  },
  {
   "cell_type": "code",
   "execution_count": 15,
   "metadata": {
    "collapsed": false
   },
   "outputs": [
    {
     "name": "stdout",
     "output_type": "stream",
     "text": [
      "1          Ganga, 2525*, 57#\n",
      "9         Yamuna, 1376*, 27#\n",
      "17       Narmada, 1312*, 21#\n",
      "25      Godawari, 1465*, 35#\n",
      "33       Krishna, 1401*, 24#\n",
      "41        Cauvery, 800*, 29#\n",
      "49       Mahanadi, 851*, 22#\n",
      "57    Brahmaputra, 916*, 10#\n",
      "Name: Category, dtype: object\n"
     ]
    }
   ],
   "source": [
    "print ph_river_data['Category']"
   ]
  },
  {
   "cell_type": "code",
   "execution_count": 16,
   "metadata": {
    "collapsed": false
   },
   "outputs": [
    {
     "ename": "AttributeError",
     "evalue": "'Series' object has no attribute 'split'",
     "output_type": "error",
     "traceback": [
      "\u001b[0;31m---------------------------------------------------------------------------\u001b[0m",
      "\u001b[0;31mAttributeError\u001b[0m                            Traceback (most recent call last)",
      "\u001b[0;32m<ipython-input-16-17e6cb9e0bbe>\u001b[0m in \u001b[0;36m<module>\u001b[0;34m()\u001b[0m\n\u001b[0;32m----> 1\u001b[0;31m \u001b[0mph_river_data\u001b[0m\u001b[1;33m[\u001b[0m\u001b[1;34m'Category'\u001b[0m\u001b[1;33m]\u001b[0m \u001b[1;33m=\u001b[0m \u001b[0mph_river_data\u001b[0m\u001b[1;33m[\u001b[0m\u001b[1;34m'Category'\u001b[0m\u001b[1;33m]\u001b[0m\u001b[1;33m.\u001b[0m\u001b[0msplit\u001b[0m\u001b[1;33m(\u001b[0m\u001b[1;34m','\u001b[0m\u001b[1;33m)\u001b[0m\u001b[1;33m[\u001b[0m\u001b[1;36m0\u001b[0m\u001b[1;33m]\u001b[0m\u001b[1;33m\u001b[0m\u001b[0m\n\u001b[0m",
      "\u001b[0;32mC:\\Users\\Ashish Agrawal\\Anaconda2\\lib\\site-packages\\pandas\\core\\generic.pyc\u001b[0m in \u001b[0;36m__getattr__\u001b[0;34m(self, name)\u001b[0m\n\u001b[1;32m   2670\u001b[0m             \u001b[1;32mif\u001b[0m \u001b[0mname\u001b[0m \u001b[1;32min\u001b[0m \u001b[0mself\u001b[0m\u001b[1;33m.\u001b[0m\u001b[0m_info_axis\u001b[0m\u001b[1;33m:\u001b[0m\u001b[1;33m\u001b[0m\u001b[0m\n\u001b[1;32m   2671\u001b[0m                 \u001b[1;32mreturn\u001b[0m \u001b[0mself\u001b[0m\u001b[1;33m[\u001b[0m\u001b[0mname\u001b[0m\u001b[1;33m]\u001b[0m\u001b[1;33m\u001b[0m\u001b[0m\n\u001b[0;32m-> 2672\u001b[0;31m             \u001b[1;32mreturn\u001b[0m \u001b[0mobject\u001b[0m\u001b[1;33m.\u001b[0m\u001b[0m__getattribute__\u001b[0m\u001b[1;33m(\u001b[0m\u001b[0mself\u001b[0m\u001b[1;33m,\u001b[0m \u001b[0mname\u001b[0m\u001b[1;33m)\u001b[0m\u001b[1;33m\u001b[0m\u001b[0m\n\u001b[0m\u001b[1;32m   2673\u001b[0m \u001b[1;33m\u001b[0m\u001b[0m\n\u001b[1;32m   2674\u001b[0m     \u001b[1;32mdef\u001b[0m \u001b[0m__setattr__\u001b[0m\u001b[1;33m(\u001b[0m\u001b[0mself\u001b[0m\u001b[1;33m,\u001b[0m \u001b[0mname\u001b[0m\u001b[1;33m,\u001b[0m \u001b[0mvalue\u001b[0m\u001b[1;33m)\u001b[0m\u001b[1;33m:\u001b[0m\u001b[1;33m\u001b[0m\u001b[0m\n",
      "\u001b[0;31mAttributeError\u001b[0m: 'Series' object has no attribute 'split'"
     ]
    }
   ],
   "source": [
    "ph_river_data['Category'] = ph_river_data['Category'].split(',')[0]"
   ]
  },
  {
   "cell_type": "code",
   "execution_count": 17,
   "metadata": {
    "collapsed": false
   },
   "outputs": [
    {
     "name": "stdout",
     "output_type": "stream",
     "text": [
      "Ganga, 2525*, 57#\n",
      "Yamuna, 1376*, 27#\n",
      "Narmada, 1312*, 21#\n",
      "Godawari, 1465*, 35#\n",
      "Krishna, 1401*, 24#\n",
      "Cauvery, 800*, 29#\n",
      "Mahanadi, 851*, 22#\n",
      "Brahmaputra, 916*, 10#\n"
     ]
    }
   ],
   "source": [
    "for river in ph_river_data['Category']:\n",
    "    print river"
   ]
  },
  {
   "cell_type": "code",
   "execution_count": 41,
   "metadata": {
    "collapsed": true
   },
   "outputs": [],
   "source": [
    "for river in ph_river_data['Category']:\n",
    "    river = river.split(',')[0]"
   ]
  },
  {
   "cell_type": "code",
   "execution_count": 19,
   "metadata": {
    "collapsed": false
   },
   "outputs": [
    {
     "name": "stdout",
     "output_type": "stream",
     "text": [
      "1          Ganga, 2525*, 57#\n",
      "9         Yamuna, 1376*, 27#\n",
      "17       Narmada, 1312*, 21#\n",
      "25      Godawari, 1465*, 35#\n",
      "33       Krishna, 1401*, 24#\n",
      "41        Cauvery, 800*, 29#\n",
      "49       Mahanadi, 851*, 22#\n",
      "57    Brahmaputra, 916*, 10#\n",
      "Name: Category, dtype: object\n"
     ]
    }
   ],
   "source": [
    "print ph_river_data['Category']"
   ]
  },
  {
   "cell_type": "code",
   "execution_count": 20,
   "metadata": {
    "collapsed": false
   },
   "outputs": [
    {
     "name": "stdout",
     "output_type": "stream",
     "text": [
      "Ganga\n"
     ]
    }
   ],
   "source": [
    "a= \"Ganga, 2525*, 57#\"\n",
    "print a.split(',')[0]"
   ]
  },
  {
   "cell_type": "code",
   "execution_count": 21,
   "metadata": {
    "collapsed": false
   },
   "outputs": [
    {
     "name": "stdout",
     "output_type": "stream",
     "text": [
      "                  Category Parameter     2001     2002     2003     2004  \\\n",
      "1        Ganga, 2525*, 57#        pH  6.1-9.0  6.4-9.0  6.8-8.9    7-8.8   \n",
      "9       Yamuna, 1376*, 27#        pH    6.1-9  6.7-9.8   6.6-10    6.8-9   \n",
      "17     Narmada, 1312*, 21#        pH    7-8.6  6.9-9.3  7.1-8.5    7-8.6   \n",
      "25    Godawari, 1465*, 35#        pH  6.9-8.8      7-9  7.1-8.7    6.5-9   \n",
      "33     Krishna, 1401*, 24#        pH      7-9  6.8-9.5  6.7-8.9    6.7-9   \n",
      "41      Cauvery, 800*, 29#        pH    7-8.9    2-9.2    7-9.2    6.6-9   \n",
      "49     Mahanadi, 851*, 22#        pH      7-9  7.3-8.9  6.5-8.6  6.3-8.8   \n",
      "57  Brahmaputra, 916*, 10#        pH    7-8.4    6.5-9  6.4-8.4    5.2-9   \n",
      "\n",
      "       2005       2006      2007     2008     2009      2010       2011  \\\n",
      "1     6.1-9   7.0-8.88   6.1-8.8  6.1-8.9  6.5-8.9   6.7-9.0  6.7 - 9.1   \n",
      "9   6.8-9.1   7.14-9.5     5-8.4  6.8-9.5  7.0-8.8  6.1 -9.4  6.9 - 8.8   \n",
      "17    3.3-9    7.1-8.6   7.5-8.8   6.8-10  6.5-8.9   7.2-8.5  7.1 - 8.6   \n",
      "25  6.7-9.1  6.65-9.11   5.9-8.9  5.2-9.6    6-9.2   5.4-8.9    6.4-9.1   \n",
      "33  6.5-9.9  6.32-9.30   6.2-9.1  5.8-8.9  6.7-9.0   6.5-9.1   6.9 -8.7   \n",
      "41  6.2-9.5      7-9.3   6.5-8.8  6.5-8.8  6.5-8.9   6.5-8.9    4.3-8.9   \n",
      "49  6.1-8.7   6.97-8.9  7.3-8.54  6.7-8.8  6.7-8.8   7.0-9.3    7.1-8.5   \n",
      "57  5.9-7.6      6.9-8   5.9-7.9  6.1-8.1  6.1-8.1   6.5-8.1   6.1 -8.5   \n",
      "\n",
      "    Unnamed: 13  Unnamed: 14  \n",
      "1           NaN          NaN  \n",
      "9           NaN          NaN  \n",
      "17          NaN          NaN  \n",
      "25          NaN          NaN  \n",
      "33          NaN          NaN  \n",
      "41          NaN          NaN  \n",
      "49          NaN          NaN  \n",
      "57          NaN          NaN  \n"
     ]
    }
   ],
   "source": [
    "print ph_river_data"
   ]
  },
  {
   "cell_type": "code",
   "execution_count": 22,
   "metadata": {
    "collapsed": false
   },
   "outputs": [
    {
     "data": {
      "image/png": "[encoded data removed]",
      "text/plain": [
       "<matplotlib.figure.Figure at 0x64748d0>"
      ]
     },
     "metadata": {},
     "output_type": "display_data"
    }
   ],
   "source": [
    "sns.set(style=\"whitegrid\")\n",
    "sns.set_color_codes(\"pastel\")\n",
    "\n",
    "f, ax = plt.subplots(figsize=(10, 6))\n"
   ]
  },
  {
   "cell_type": "code",
   "execution_count": 23,
   "metadata": {
    "collapsed": false
   },
   "outputs": [
    {
     "ename": "KeyError",
     "evalue": "0",
     "output_type": "error",
     "traceback": [
      "\u001b[0;31m---------------------------------------------------------------------------\u001b[0m",
      "\u001b[0;31mKeyError\u001b[0m                                  Traceback (most recent call last)",
      "\u001b[0;32m<ipython-input-23-581a8c738606>\u001b[0m in \u001b[0;36m<module>\u001b[0;34m()\u001b[0m\n\u001b[0;32m----> 1\u001b[0;31m \u001b[1;32mprint\u001b[0m \u001b[0mph_river_data\u001b[0m\u001b[1;33m[\u001b[0m\u001b[1;36m0\u001b[0m\u001b[1;33m]\u001b[0m\u001b[1;33m\u001b[0m\u001b[0m\n\u001b[0m",
      "\u001b[0;32mC:\\Users\\Ashish Agrawal\\Anaconda2\\lib\\site-packages\\pandas\\core\\frame.pyc\u001b[0m in \u001b[0;36m__getitem__\u001b[0;34m(self, key)\u001b[0m\n\u001b[1;32m   1995\u001b[0m             \u001b[1;32mreturn\u001b[0m \u001b[0mself\u001b[0m\u001b[1;33m.\u001b[0m\u001b[0m_getitem_multilevel\u001b[0m\u001b[1;33m(\u001b[0m\u001b[0mkey\u001b[0m\u001b[1;33m)\u001b[0m\u001b[1;33m\u001b[0m\u001b[0m\n\u001b[1;32m   1996\u001b[0m         \u001b[1;32melse\u001b[0m\u001b[1;33m:\u001b[0m\u001b[1;33m\u001b[0m\u001b[0m\n\u001b[0;32m-> 1997\u001b[0;31m             \u001b[1;32mreturn\u001b[0m \u001b[0mself\u001b[0m\u001b[1;33m.\u001b[0m\u001b[0m_getitem_column\u001b[0m\u001b[1;33m(\u001b[0m\u001b[0mkey\u001b[0m\u001b[1;33m)\u001b[0m\u001b[1;33m\u001b[0m\u001b[0m\n\u001b[0m\u001b[1;32m   1998\u001b[0m \u001b[1;33m\u001b[0m\u001b[0m\n\u001b[1;32m   1999\u001b[0m     \u001b[1;32mdef\u001b[0m \u001b[0m_getitem_column\u001b[0m\u001b[1;33m(\u001b[0m\u001b[0mself\u001b[0m\u001b[1;33m,\u001b[0m \u001b[0mkey\u001b[0m\u001b[1;33m)\u001b[0m\u001b[1;33m:\u001b[0m\u001b[1;33m\u001b[0m\u001b[0m\n",
      "\u001b[0;32mC:\\Users\\Ashish Agrawal\\Anaconda2\\lib\\site-packages\\pandas\\core\\frame.pyc\u001b[0m in \u001b[0;36m_getitem_column\u001b[0;34m(self, key)\u001b[0m\n\u001b[1;32m   2002\u001b[0m         \u001b[1;31m# get column\u001b[0m\u001b[1;33m\u001b[0m\u001b[1;33m\u001b[0m\u001b[0m\n\u001b[1;32m   2003\u001b[0m         \u001b[1;32mif\u001b[0m \u001b[0mself\u001b[0m\u001b[1;33m.\u001b[0m\u001b[0mcolumns\u001b[0m\u001b[1;33m.\u001b[0m\u001b[0mis_unique\u001b[0m\u001b[1;33m:\u001b[0m\u001b[1;33m\u001b[0m\u001b[0m\n\u001b[0;32m-> 2004\u001b[0;31m             \u001b[1;32mreturn\u001b[0m \u001b[0mself\u001b[0m\u001b[1;33m.\u001b[0m\u001b[0m_get_item_cache\u001b[0m\u001b[1;33m(\u001b[0m\u001b[0mkey\u001b[0m\u001b[1;33m)\u001b[0m\u001b[1;33m\u001b[0m\u001b[0m\n\u001b[0m\u001b[1;32m   2005\u001b[0m \u001b[1;33m\u001b[0m\u001b[0m\n\u001b[1;32m   2006\u001b[0m         \u001b[1;31m# duplicate columns & possible reduce dimensionality\u001b[0m\u001b[1;33m\u001b[0m\u001b[1;33m\u001b[0m\u001b[0m\n",
      "\u001b[0;32mC:\\Users\\Ashish Agrawal\\Anaconda2\\lib\\site-packages\\pandas\\core\\generic.pyc\u001b[0m in \u001b[0;36m_get_item_cache\u001b[0;34m(self, item)\u001b[0m\n\u001b[1;32m   1348\u001b[0m         \u001b[0mres\u001b[0m \u001b[1;33m=\u001b[0m \u001b[0mcache\u001b[0m\u001b[1;33m.\u001b[0m\u001b[0mget\u001b[0m\u001b[1;33m(\u001b[0m\u001b[0mitem\u001b[0m\u001b[1;33m)\u001b[0m\u001b[1;33m\u001b[0m\u001b[0m\n\u001b[1;32m   1349\u001b[0m         \u001b[1;32mif\u001b[0m \u001b[0mres\u001b[0m \u001b[1;32mis\u001b[0m \u001b[0mNone\u001b[0m\u001b[1;33m:\u001b[0m\u001b[1;33m\u001b[0m\u001b[0m\n\u001b[0;32m-> 1350\u001b[0;31m             \u001b[0mvalues\u001b[0m \u001b[1;33m=\u001b[0m \u001b[0mself\u001b[0m\u001b[1;33m.\u001b[0m\u001b[0m_data\u001b[0m\u001b[1;33m.\u001b[0m\u001b[0mget\u001b[0m\u001b[1;33m(\u001b[0m\u001b[0mitem\u001b[0m\u001b[1;33m)\u001b[0m\u001b[1;33m\u001b[0m\u001b[0m\n\u001b[0m\u001b[1;32m   1351\u001b[0m             \u001b[0mres\u001b[0m \u001b[1;33m=\u001b[0m \u001b[0mself\u001b[0m\u001b[1;33m.\u001b[0m\u001b[0m_box_item_values\u001b[0m\u001b[1;33m(\u001b[0m\u001b[0mitem\u001b[0m\u001b[1;33m,\u001b[0m \u001b[0mvalues\u001b[0m\u001b[1;33m)\u001b[0m\u001b[1;33m\u001b[0m\u001b[0m\n\u001b[1;32m   1352\u001b[0m             \u001b[0mcache\u001b[0m\u001b[1;33m[\u001b[0m\u001b[0mitem\u001b[0m\u001b[1;33m]\u001b[0m \u001b[1;33m=\u001b[0m \u001b[0mres\u001b[0m\u001b[1;33m\u001b[0m\u001b[0m\n",
      "\u001b[0;32mC:\\Users\\Ashish Agrawal\\Anaconda2\\lib\\site-packages\\pandas\\core\\internals.pyc\u001b[0m in \u001b[0;36mget\u001b[0;34m(self, item, fastpath)\u001b[0m\n\u001b[1;32m   3288\u001b[0m \u001b[1;33m\u001b[0m\u001b[0m\n\u001b[1;32m   3289\u001b[0m             \u001b[1;32mif\u001b[0m \u001b[1;32mnot\u001b[0m \u001b[0misnull\u001b[0m\u001b[1;33m(\u001b[0m\u001b[0mitem\u001b[0m\u001b[1;33m)\u001b[0m\u001b[1;33m:\u001b[0m\u001b[1;33m\u001b[0m\u001b[0m\n\u001b[0;32m-> 3290\u001b[0;31m                 \u001b[0mloc\u001b[0m \u001b[1;33m=\u001b[0m \u001b[0mself\u001b[0m\u001b[1;33m.\u001b[0m\u001b[0mitems\u001b[0m\u001b[1;33m.\u001b[0m\u001b[0mget_loc\u001b[0m\u001b[1;33m(\u001b[0m\u001b[0mitem\u001b[0m\u001b[1;33m)\u001b[0m\u001b[1;33m\u001b[0m\u001b[0m\n\u001b[0m\u001b[1;32m   3291\u001b[0m             \u001b[1;32melse\u001b[0m\u001b[1;33m:\u001b[0m\u001b[1;33m\u001b[0m\u001b[0m\n\u001b[1;32m   3292\u001b[0m                 \u001b[0mindexer\u001b[0m \u001b[1;33m=\u001b[0m \u001b[0mnp\u001b[0m\u001b[1;33m.\u001b[0m\u001b[0marange\u001b[0m\u001b[1;33m(\u001b[0m\u001b[0mlen\u001b[0m\u001b[1;33m(\u001b[0m\u001b[0mself\u001b[0m\u001b[1;33m.\u001b[0m\u001b[0mitems\u001b[0m\u001b[1;33m)\u001b[0m\u001b[1;33m)\u001b[0m\u001b[1;33m[\u001b[0m\u001b[0misnull\u001b[0m\u001b[1;33m(\u001b[0m\u001b[0mself\u001b[0m\u001b[1;33m.\u001b[0m\u001b[0mitems\u001b[0m\u001b[1;33m)\u001b[0m\u001b[1;33m]\u001b[0m\u001b[1;33m\u001b[0m\u001b[0m\n",
      "\u001b[0;32mC:\\Users\\Ashish Agrawal\\Anaconda2\\lib\\site-packages\\pandas\\indexes\\base.pyc\u001b[0m in \u001b[0;36mget_loc\u001b[0;34m(self, key, method, tolerance)\u001b[0m\n\u001b[1;32m   1945\u001b[0m                 \u001b[1;32mreturn\u001b[0m \u001b[0mself\u001b[0m\u001b[1;33m.\u001b[0m\u001b[0m_engine\u001b[0m\u001b[1;33m.\u001b[0m\u001b[0mget_loc\u001b[0m\u001b[1;33m(\u001b[0m\u001b[0mkey\u001b[0m\u001b[1;33m)\u001b[0m\u001b[1;33m\u001b[0m\u001b[0m\n\u001b[1;32m   1946\u001b[0m             \u001b[1;32mexcept\u001b[0m \u001b[0mKeyError\u001b[0m\u001b[1;33m:\u001b[0m\u001b[1;33m\u001b[0m\u001b[0m\n\u001b[0;32m-> 1947\u001b[0;31m                 \u001b[1;32mreturn\u001b[0m \u001b[0mself\u001b[0m\u001b[1;33m.\u001b[0m\u001b[0m_engine\u001b[0m\u001b[1;33m.\u001b[0m\u001b[0mget_loc\u001b[0m\u001b[1;33m(\u001b[0m\u001b[0mself\u001b[0m\u001b[1;33m.\u001b[0m\u001b[0m_maybe_cast_indexer\u001b[0m\u001b[1;33m(\u001b[0m\u001b[0mkey\u001b[0m\u001b[1;33m)\u001b[0m\u001b[1;33m)\u001b[0m\u001b[1;33m\u001b[0m\u001b[0m\n\u001b[0m\u001b[1;32m   1948\u001b[0m \u001b[1;33m\u001b[0m\u001b[0m\n\u001b[1;32m   1949\u001b[0m         \u001b[0mindexer\u001b[0m \u001b[1;33m=\u001b[0m \u001b[0mself\u001b[0m\u001b[1;33m.\u001b[0m\u001b[0mget_indexer\u001b[0m\u001b[1;33m(\u001b[0m\u001b[1;33m[\u001b[0m\u001b[0mkey\u001b[0m\u001b[1;33m]\u001b[0m\u001b[1;33m,\u001b[0m \u001b[0mmethod\u001b[0m\u001b[1;33m=\u001b[0m\u001b[0mmethod\u001b[0m\u001b[1;33m,\u001b[0m \u001b[0mtolerance\u001b[0m\u001b[1;33m=\u001b[0m\u001b[0mtolerance\u001b[0m\u001b[1;33m)\u001b[0m\u001b[1;33m\u001b[0m\u001b[0m\n",
      "\u001b[0;32mpandas\\index.pyx\u001b[0m in \u001b[0;36mpandas.index.IndexEngine.get_loc (pandas\\index.c:4154)\u001b[0;34m()\u001b[0m\n",
      "\u001b[0;32mpandas\\index.pyx\u001b[0m in \u001b[0;36mpandas.index.IndexEngine.get_loc (pandas\\index.c:4018)\u001b[0;34m()\u001b[0m\n",
      "\u001b[0;32mpandas\\hashtable.pyx\u001b[0m in \u001b[0;36mpandas.hashtable.PyObjectHashTable.get_item (pandas\\hashtable.c:12368)\u001b[0;34m()\u001b[0m\n",
      "\u001b[0;32mpandas\\hashtable.pyx\u001b[0m in \u001b[0;36mpandas.hashtable.PyObjectHashTable.get_item (pandas\\hashtable.c:12322)\u001b[0;34m()\u001b[0m\n",
      "\u001b[0;31mKeyError\u001b[0m: 0"
     ]
    }
   ],
   "source": [
    "print ph_river_data[0]"
   ]
  },
  {
   "cell_type": "code",
   "execution_count": 24,
   "metadata": {
    "collapsed": false
   },
   "outputs": [
    {
     "ename": "KeyError",
     "evalue": "0L",
     "output_type": "error",
     "traceback": [
      "\u001b[0;31m---------------------------------------------------------------------------\u001b[0m",
      "\u001b[0;31mKeyError\u001b[0m                                  Traceback (most recent call last)",
      "\u001b[0;32m<ipython-input-24-293b186a6ad2>\u001b[0m in \u001b[0;36m<module>\u001b[0;34m()\u001b[0m\n\u001b[0;32m----> 1\u001b[0;31m \u001b[1;32mprint\u001b[0m \u001b[0mph_river_data\u001b[0m\u001b[1;33m[\u001b[0m\u001b[1;34m'Category'\u001b[0m\u001b[1;33m]\u001b[0m\u001b[1;33m[\u001b[0m\u001b[1;36m0\u001b[0m\u001b[1;33m]\u001b[0m\u001b[1;33m\u001b[0m\u001b[0m\n\u001b[0m",
      "\u001b[0;32mC:\\Users\\Ashish Agrawal\\Anaconda2\\lib\\site-packages\\pandas\\core\\series.pyc\u001b[0m in \u001b[0;36m__getitem__\u001b[0;34m(self, key)\u001b[0m\n\u001b[1;32m    581\u001b[0m         \u001b[0mkey\u001b[0m \u001b[1;33m=\u001b[0m \u001b[0mcom\u001b[0m\u001b[1;33m.\u001b[0m\u001b[0m_apply_if_callable\u001b[0m\u001b[1;33m(\u001b[0m\u001b[0mkey\u001b[0m\u001b[1;33m,\u001b[0m \u001b[0mself\u001b[0m\u001b[1;33m)\u001b[0m\u001b[1;33m\u001b[0m\u001b[0m\n\u001b[1;32m    582\u001b[0m         \u001b[1;32mtry\u001b[0m\u001b[1;33m:\u001b[0m\u001b[1;33m\u001b[0m\u001b[0m\n\u001b[0;32m--> 583\u001b[0;31m             \u001b[0mresult\u001b[0m \u001b[1;33m=\u001b[0m \u001b[0mself\u001b[0m\u001b[1;33m.\u001b[0m\u001b[0mindex\u001b[0m\u001b[1;33m.\u001b[0m\u001b[0mget_value\u001b[0m\u001b[1;33m(\u001b[0m\u001b[0mself\u001b[0m\u001b[1;33m,\u001b[0m \u001b[0mkey\u001b[0m\u001b[1;33m)\u001b[0m\u001b[1;33m\u001b[0m\u001b[0m\n\u001b[0m\u001b[1;32m    584\u001b[0m \u001b[1;33m\u001b[0m\u001b[0m\n\u001b[1;32m    585\u001b[0m             \u001b[1;32mif\u001b[0m \u001b[1;32mnot\u001b[0m \u001b[0mlib\u001b[0m\u001b[1;33m.\u001b[0m\u001b[0misscalar\u001b[0m\u001b[1;33m(\u001b[0m\u001b[0mresult\u001b[0m\u001b[1;33m)\u001b[0m\u001b[1;33m:\u001b[0m\u001b[1;33m\u001b[0m\u001b[0m\n",
      "\u001b[0;32mC:\\Users\\Ashish Agrawal\\Anaconda2\\lib\\site-packages\\pandas\\indexes\\base.pyc\u001b[0m in \u001b[0;36mget_value\u001b[0;34m(self, series, key)\u001b[0m\n\u001b[1;32m   1978\u001b[0m         \u001b[1;32mtry\u001b[0m\u001b[1;33m:\u001b[0m\u001b[1;33m\u001b[0m\u001b[0m\n\u001b[1;32m   1979\u001b[0m             return self._engine.get_value(s, k,\n\u001b[0;32m-> 1980\u001b[0;31m                                           tz=getattr(series.dtype, 'tz', None))\n\u001b[0m\u001b[1;32m   1981\u001b[0m         \u001b[1;32mexcept\u001b[0m \u001b[0mKeyError\u001b[0m \u001b[1;32mas\u001b[0m \u001b[0me1\u001b[0m\u001b[1;33m:\u001b[0m\u001b[1;33m\u001b[0m\u001b[0m\n\u001b[1;32m   1982\u001b[0m             \u001b[1;32mif\u001b[0m \u001b[0mlen\u001b[0m\u001b[1;33m(\u001b[0m\u001b[0mself\u001b[0m\u001b[1;33m)\u001b[0m \u001b[1;33m>\u001b[0m \u001b[1;36m0\u001b[0m \u001b[1;32mand\u001b[0m \u001b[0mself\u001b[0m\u001b[1;33m.\u001b[0m\u001b[0minferred_type\u001b[0m \u001b[1;32min\u001b[0m \u001b[1;33m[\u001b[0m\u001b[1;34m'integer'\u001b[0m\u001b[1;33m,\u001b[0m \u001b[1;34m'boolean'\u001b[0m\u001b[1;33m]\u001b[0m\u001b[1;33m:\u001b[0m\u001b[1;33m\u001b[0m\u001b[0m\n",
      "\u001b[0;32mpandas\\index.pyx\u001b[0m in \u001b[0;36mpandas.index.IndexEngine.get_value (pandas\\index.c:3332)\u001b[0;34m()\u001b[0m\n",
      "\u001b[0;32mpandas\\index.pyx\u001b[0m in \u001b[0;36mpandas.index.IndexEngine.get_value (pandas\\index.c:3035)\u001b[0;34m()\u001b[0m\n",
      "\u001b[0;32mpandas\\index.pyx\u001b[0m in \u001b[0;36mpandas.index.IndexEngine.get_loc (pandas\\index.c:4018)\u001b[0;34m()\u001b[0m\n",
      "\u001b[0;32mpandas\\hashtable.pyx\u001b[0m in \u001b[0;36mpandas.hashtable.Int64HashTable.get_item (pandas\\hashtable.c:6610)\u001b[0;34m()\u001b[0m\n",
      "\u001b[0;32mpandas\\hashtable.pyx\u001b[0m in \u001b[0;36mpandas.hashtable.Int64HashTable.get_item (pandas\\hashtable.c:6554)\u001b[0;34m()\u001b[0m\n",
      "\u001b[0;31mKeyError\u001b[0m: 0L"
     ]
    }
   ],
   "source": [
    "print ph_river_data['Category'][0]"
   ]
  },
  {
   "cell_type": "code",
   "execution_count": 25,
   "metadata": {
    "collapsed": false
   },
   "outputs": [
    {
     "name": "stdout",
     "output_type": "stream",
     "text": [
      "1          Ganga, 2525*, 57#\n",
      "9         Yamuna, 1376*, 27#\n",
      "17       Narmada, 1312*, 21#\n",
      "25      Godawari, 1465*, 35#\n",
      "33       Krishna, 1401*, 24#\n",
      "41        Cauvery, 800*, 29#\n",
      "49       Mahanadi, 851*, 22#\n",
      "57    Brahmaputra, 916*, 10#\n",
      "Name: Category, dtype: object\n"
     ]
    }
   ],
   "source": [
    "print ph_river_data['Category']"
   ]
  },
  {
   "cell_type": "code",
   "execution_count": 26,
   "metadata": {
    "collapsed": false
   },
   "outputs": [
    {
     "name": "stdout",
     "output_type": "stream",
     "text": [
      "                  Category Parameter     2001     2002     2003     2004  \\\n",
      "1        Ganga, 2525*, 57#        pH  6.1-9.0  6.4-9.0  6.8-8.9    7-8.8   \n",
      "9       Yamuna, 1376*, 27#        pH    6.1-9  6.7-9.8   6.6-10    6.8-9   \n",
      "17     Narmada, 1312*, 21#        pH    7-8.6  6.9-9.3  7.1-8.5    7-8.6   \n",
      "25    Godawari, 1465*, 35#        pH  6.9-8.8      7-9  7.1-8.7    6.5-9   \n",
      "33     Krishna, 1401*, 24#        pH      7-9  6.8-9.5  6.7-8.9    6.7-9   \n",
      "41      Cauvery, 800*, 29#        pH    7-8.9    2-9.2    7-9.2    6.6-9   \n",
      "49     Mahanadi, 851*, 22#        pH      7-9  7.3-8.9  6.5-8.6  6.3-8.8   \n",
      "57  Brahmaputra, 916*, 10#        pH    7-8.4    6.5-9  6.4-8.4    5.2-9   \n",
      "\n",
      "       2005       2006      2007     2008     2009      2010       2011  \\\n",
      "1     6.1-9   7.0-8.88   6.1-8.8  6.1-8.9  6.5-8.9   6.7-9.0  6.7 - 9.1   \n",
      "9   6.8-9.1   7.14-9.5     5-8.4  6.8-9.5  7.0-8.8  6.1 -9.4  6.9 - 8.8   \n",
      "17    3.3-9    7.1-8.6   7.5-8.8   6.8-10  6.5-8.9   7.2-8.5  7.1 - 8.6   \n",
      "25  6.7-9.1  6.65-9.11   5.9-8.9  5.2-9.6    6-9.2   5.4-8.9    6.4-9.1   \n",
      "33  6.5-9.9  6.32-9.30   6.2-9.1  5.8-8.9  6.7-9.0   6.5-9.1   6.9 -8.7   \n",
      "41  6.2-9.5      7-9.3   6.5-8.8  6.5-8.8  6.5-8.9   6.5-8.9    4.3-8.9   \n",
      "49  6.1-8.7   6.97-8.9  7.3-8.54  6.7-8.8  6.7-8.8   7.0-9.3    7.1-8.5   \n",
      "57  5.9-7.6      6.9-8   5.9-7.9  6.1-8.1  6.1-8.1   6.5-8.1   6.1 -8.5   \n",
      "\n",
      "    Unnamed: 13  Unnamed: 14  \n",
      "1           NaN          NaN  \n",
      "9           NaN          NaN  \n",
      "17          NaN          NaN  \n",
      "25          NaN          NaN  \n",
      "33          NaN          NaN  \n",
      "41          NaN          NaN  \n",
      "49          NaN          NaN  \n",
      "57          NaN          NaN  \n"
     ]
    }
   ],
   "source": [
    "print ph_river_data"
   ]
  },
  {
   "cell_type": "code",
   "execution_count": 27,
   "metadata": {
    "collapsed": false
   },
   "outputs": [
    {
     "data": {
      "text/html": [
       "<div>\n",
       "<table border=\"1\" class=\"dataframe\">\n",
       "  <thead>\n",
       "    <tr style=\"text-align: right;\">\n",
       "      <th></th>\n",
       "      <th>Category</th>\n",
       "      <th>Parameter</th>\n",
       "      <th>2001</th>\n",
       "      <th>2002</th>\n",
       "      <th>2003</th>\n",
       "      <th>2004</th>\n",
       "      <th>2005</th>\n",
       "      <th>2006</th>\n",
       "      <th>2007</th>\n",
       "      <th>2008</th>\n",
       "      <th>2009</th>\n",
       "      <th>2010</th>\n",
       "      <th>2011</th>\n",
       "      <th>Unnamed: 13</th>\n",
       "      <th>Unnamed: 14</th>\n",
       "    </tr>\n",
       "  </thead>\n",
       "  <tbody>\n",
       "  </tbody>\n",
       "</table>\n",
       "</div>"
      ],
      "text/plain": [
       "Empty DataFrame\n",
       "Columns: [Category, Parameter, 2001, 2002, 2003, 2004, 2005, 2006, 2007, 2008, 2009, 2010, 2011, Unnamed: 13, Unnamed: 14]\n",
       "Index: []"
      ]
     },
     "execution_count": 27,
     "metadata": {},
     "output_type": "execute_result"
    }
   ],
   "source": [
    "ph_river_data.dropna()"
   ]
  },
  {
   "cell_type": "code",
   "execution_count": 28,
   "metadata": {
    "collapsed": false
   },
   "outputs": [
    {
     "name": "stdout",
     "output_type": "stream",
     "text": [
      "                  Category Parameter     2001     2002     2003     2004  \\\n",
      "1        Ganga, 2525*, 57#        pH  6.1-9.0  6.4-9.0  6.8-8.9    7-8.8   \n",
      "9       Yamuna, 1376*, 27#        pH    6.1-9  6.7-9.8   6.6-10    6.8-9   \n",
      "17     Narmada, 1312*, 21#        pH    7-8.6  6.9-9.3  7.1-8.5    7-8.6   \n",
      "25    Godawari, 1465*, 35#        pH  6.9-8.8      7-9  7.1-8.7    6.5-9   \n",
      "33     Krishna, 1401*, 24#        pH      7-9  6.8-9.5  6.7-8.9    6.7-9   \n",
      "41      Cauvery, 800*, 29#        pH    7-8.9    2-9.2    7-9.2    6.6-9   \n",
      "49     Mahanadi, 851*, 22#        pH      7-9  7.3-8.9  6.5-8.6  6.3-8.8   \n",
      "57  Brahmaputra, 916*, 10#        pH    7-8.4    6.5-9  6.4-8.4    5.2-9   \n",
      "\n",
      "       2005       2006      2007     2008     2009      2010       2011  \\\n",
      "1     6.1-9   7.0-8.88   6.1-8.8  6.1-8.9  6.5-8.9   6.7-9.0  6.7 - 9.1   \n",
      "9   6.8-9.1   7.14-9.5     5-8.4  6.8-9.5  7.0-8.8  6.1 -9.4  6.9 - 8.8   \n",
      "17    3.3-9    7.1-8.6   7.5-8.8   6.8-10  6.5-8.9   7.2-8.5  7.1 - 8.6   \n",
      "25  6.7-9.1  6.65-9.11   5.9-8.9  5.2-9.6    6-9.2   5.4-8.9    6.4-9.1   \n",
      "33  6.5-9.9  6.32-9.30   6.2-9.1  5.8-8.9  6.7-9.0   6.5-9.1   6.9 -8.7   \n",
      "41  6.2-9.5      7-9.3   6.5-8.8  6.5-8.8  6.5-8.9   6.5-8.9    4.3-8.9   \n",
      "49  6.1-8.7   6.97-8.9  7.3-8.54  6.7-8.8  6.7-8.8   7.0-9.3    7.1-8.5   \n",
      "57  5.9-7.6      6.9-8   5.9-7.9  6.1-8.1  6.1-8.1   6.5-8.1   6.1 -8.5   \n",
      "\n",
      "    Unnamed: 13  Unnamed: 14  \n",
      "1           NaN          NaN  \n",
      "9           NaN          NaN  \n",
      "17          NaN          NaN  \n",
      "25          NaN          NaN  \n",
      "33          NaN          NaN  \n",
      "41          NaN          NaN  \n",
      "49          NaN          NaN  \n",
      "57          NaN          NaN  \n"
     ]
    }
   ],
   "source": [
    "print ph_river_data"
   ]
  },
  {
   "cell_type": "code",
   "execution_count": 29,
   "metadata": {
    "collapsed": false
   },
   "outputs": [
    {
     "name": "stdout",
     "output_type": "stream",
     "text": [
      "                Category Parameter     2001     2002     2003   2004     2005  \\\n",
      "1      Ganga, 2525*, 57#        pH  6.1-9.0  6.4-9.0  6.8-8.9  7-8.8    6.1-9   \n",
      "9     Yamuna, 1376*, 27#        pH    6.1-9  6.7-9.8   6.6-10  6.8-9  6.8-9.1   \n",
      "17   Narmada, 1312*, 21#        pH    7-8.6  6.9-9.3  7.1-8.5  7-8.6    3.3-9   \n",
      "25  Godawari, 1465*, 35#        pH  6.9-8.8      7-9  7.1-8.7  6.5-9  6.7-9.1   \n",
      "33   Krishna, 1401*, 24#        pH      7-9  6.8-9.5  6.7-8.9  6.7-9  6.5-9.9   \n",
      "\n",
      "         2006     2007     2008     2009      2010       2011  Unnamed: 13  \\\n",
      "1    7.0-8.88  6.1-8.8  6.1-8.9  6.5-8.9   6.7-9.0  6.7 - 9.1          NaN   \n",
      "9    7.14-9.5    5-8.4  6.8-9.5  7.0-8.8  6.1 -9.4  6.9 - 8.8          NaN   \n",
      "17    7.1-8.6  7.5-8.8   6.8-10  6.5-8.9   7.2-8.5  7.1 - 8.6          NaN   \n",
      "25  6.65-9.11  5.9-8.9  5.2-9.6    6-9.2   5.4-8.9    6.4-9.1          NaN   \n",
      "33  6.32-9.30  6.2-9.1  5.8-8.9  6.7-9.0   6.5-9.1   6.9 -8.7          NaN   \n",
      "\n",
      "    Unnamed: 14  \n",
      "1           NaN  \n",
      "9           NaN  \n",
      "17          NaN  \n",
      "25          NaN  \n",
      "33          NaN  \n"
     ]
    }
   ],
   "source": [
    "print ph_river_data.head()"
   ]
  },
  {
   "cell_type": "code",
   "execution_count": 30,
   "metadata": {
    "collapsed": false
   },
   "outputs": [
    {
     "name": "stdout",
     "output_type": "stream",
     "text": [
      "1          Ganga, 2525*, 57#\n",
      "9         Yamuna, 1376*, 27#\n",
      "17       Narmada, 1312*, 21#\n",
      "25      Godawari, 1465*, 35#\n",
      "33       Krishna, 1401*, 24#\n",
      "41        Cauvery, 800*, 29#\n",
      "49       Mahanadi, 851*, 22#\n",
      "57    Brahmaputra, 916*, 10#\n",
      "Name: Category, dtype: object\n"
     ]
    }
   ],
   "source": [
    "river_names = ph_river_data['Category']\n",
    "print river_names"
   ]
  },
  {
   "cell_type": "code",
   "execution_count": 31,
   "metadata": {
    "collapsed": false
   },
   "outputs": [
    {
     "ename": "SyntaxError",
     "evalue": "invalid syntax (<ipython-input-31-af76f47cf16e>, line 1)",
     "output_type": "error",
     "traceback": [
      "\u001b[0;36m  File \u001b[0;32m\"<ipython-input-31-af76f47cf16e>\"\u001b[0;36m, line \u001b[0;32m1\u001b[0m\n\u001b[0;31m    2001_data = ph_river_data['2001']\u001b[0m\n\u001b[0m            ^\u001b[0m\n\u001b[0;31mSyntaxError\u001b[0m\u001b[0;31m:\u001b[0m invalid syntax\n"
     ]
    }
   ],
   "source": [
    "2001_data = ph_river_data['2001']\n",
    "2002_data = ph_river_data['2002']\n",
    "2003_data = ph_river_data['2003']"
   ]
  },
  {
   "cell_type": "code",
   "execution_count": 32,
   "metadata": {
    "collapsed": false
   },
   "outputs": [
    {
     "name": "stdout",
     "output_type": "stream",
     "text": [
      "1     6.1-9.0\n",
      "9       6.1-9\n",
      "17      7-8.6\n",
      "25    6.9-8.8\n",
      "33        7-9\n",
      "41      7-8.9\n",
      "49        7-9\n",
      "57      7-8.4\n",
      "Name: 2001, dtype: object\n"
     ]
    }
   ],
   "source": [
    "print ph_river_data['2001']"
   ]
  },
  {
   "cell_type": "code",
   "execution_count": 33,
   "metadata": {
    "collapsed": false
   },
   "outputs": [
    {
     "ename": "SyntaxError",
     "evalue": "invalid syntax (<ipython-input-33-f4411a4705b4>, line 1)",
     "output_type": "error",
     "traceback": [
      "\u001b[0;36m  File \u001b[0;32m\"<ipython-input-33-f4411a4705b4>\"\u001b[0;36m, line \u001b[0;32m1\u001b[0m\n\u001b[0;31m    2001_data = []\u001b[0m\n\u001b[0m            ^\u001b[0m\n\u001b[0;31mSyntaxError\u001b[0m\u001b[0;31m:\u001b[0m invalid syntax\n"
     ]
    }
   ],
   "source": [
    "2001_data = []\n",
    "2002_data = []\n",
    "2003_data = []\n",
    "2001_data = ph_river_data['2001']\n",
    "2002_data = ph_river_data['2002']\n",
    "2003_data = ph_river_data['2003']"
   ]
  },
  {
   "cell_type": "code",
   "execution_count": 42,
   "metadata": {
    "collapsed": false
   },
   "outputs": [
    {
     "name": "stdout",
     "output_type": "stream",
     "text": [
      "                  Category                     Parameter        2001  \\\n",
      "0        Ganga, 2525*, 57#                     Temp (0C)     10.1-33   \n",
      "1        Ganga, 2525*, 57#                            pH     6.1-9.0   \n",
      "2        Ganga, 2525*, 57#       Conductivity (�mhos/cm)     75-4910   \n",
      "3        Ganga, 2525*, 57#                      DO(mg/I)    1.2-11.4   \n",
      "4        Ganga, 2525*, 57#                     BOD(mg/I)    0.2-16.5   \n",
      "5        Ganga, 2525*, 57#                     COD(mg/I)      5-59.0   \n",
      "6        Ganga, 2525*, 57#    Total Coliform(MPN/100 ml)   80-35x105   \n",
      "7        Ganga, 2525*, 57#  Faecal Coliform (MPN/100 ml)    8-25x105   \n",
      "8       Yamuna, 1376*, 27#                     Temp (0C)       10-33   \n",
      "9       Yamuna, 1376*, 27#                            pH       6.1-9   \n",
      "10      Yamuna, 1376*, 27#       Conductivity (�mhos/cm)     71-1714   \n",
      "11      Yamuna, 1376*, 27#                      DO(mg/I)      0.5-19   \n",
      "12      Yamuna, 1376*, 27#                     BOD(mg/I)      0.4-51   \n",
      "13      Yamuna, 1376*, 27#                     COD(mg/I)       5-144   \n",
      "14      Yamuna, 1376*, 27#    Total Coliform(MPN/100 ml)   14-86x105   \n",
      "15      Yamuna, 1376*, 27#  Faecal Coliform (MPN/100 ml)   11-91x105   \n",
      "16     Narmada, 1312*, 21#                     Temp (0C)       18-36   \n",
      "17     Narmada, 1312*, 21#                            pH       7-8.6   \n",
      "18     Narmada, 1312*, 21#       Conductivity (�mhos/cm)    101-1124   \n",
      "19     Narmada, 1312*, 21#                      DO(mg/I)     3.6-5.7   \n",
      "20     Narmada, 1312*, 21#                     BOD(mg/I)     0.3-5.7   \n",
      "21     Narmada, 1312*, 21#                     COD(mg/I)     10-66.6   \n",
      "22     Narmada, 1312*, 21#    Total Coliform(MPN/100 ml)      4-2400   \n",
      "23     Narmada, 1312*, 21#  Faecal Coliform (MPN/100 ml)        2-64   \n",
      "24    Godawari, 1465*, 35#                     Temp (0C)       20-33   \n",
      "25    Godawari, 1465*, 35#                            pH     6.9-8.8   \n",
      "26    Godawari, 1465*, 35#       Conductivity (�mhos/cm)    102-1240   \n",
      "27    Godawari, 1465*, 35#                      DO(mg/I)    1.2-11.5   \n",
      "28    Godawari, 1465*, 35#                     BOD(mg/I)      0.5-66   \n",
      "29    Godawari, 1465*, 35#                     COD(mg/I)    11.2-156   \n",
      "..                     ...                           ...         ...   \n",
      "35     Krishna, 1401*, 24#                      DO(mg/I)      2.6-10   \n",
      "36     Krishna, 1401*, 24#                     BOD(mg/I)    0.3-10.5   \n",
      "37     Krishna, 1401*, 24#                     COD(mg/I)        7-72   \n",
      "38     Krishna, 1401*, 24#    Total Coliform(MPN/100 ml)     17-2400   \n",
      "39     Krishna, 1401*, 24#  Faecal Coliform (MPN/100 ml)      3-1600   \n",
      "40      Cauvery, 800*, 29#                     Temp (0C)       22-39   \n",
      "41      Cauvery, 800*, 29#                            pH       7-8.9   \n",
      "42      Cauvery, 800*, 29#       Conductivity (�mhos/cm)     75-3460   \n",
      "43      Cauvery, 800*, 29#                      DO(mg/I)    0.0-17.9   \n",
      "44      Cauvery, 800*, 29#                     BOD(mg/I)      0.1-48   \n",
      "45      Cauvery, 800*, 29#                     COD(mg/I)        8-62   \n",
      "46      Cauvery, 800*, 29#    Total Coliform(MPN/100 ml)    20-16000   \n",
      "47      Cauvery, 800*, 29#  Faecal Coliform (MPN/100 ml)      3-5000   \n",
      "48     Mahanadi, 851*, 22#                     Temp (0C)       16-38   \n",
      "49     Mahanadi, 851*, 22#                            pH         7-9   \n",
      "50     Mahanadi, 851*, 22#       Conductivity (�mhos/cm)     92-3100   \n",
      "51     Mahanadi, 851*, 22#                      DO(mg/I)     5.1-8.8   \n",
      "52     Mahanadi, 851*, 22#                     BOD(mg/I)         1.5   \n",
      "53     Mahanadi, 851*, 22#                     COD(mg/I)      6.6-50   \n",
      "54     Mahanadi, 851*, 22#    Total Coliform(MPN/100 ml)    20-48000   \n",
      "55     Mahanadi, 851*, 22#  Faecal Coliform (MPN/100 ml)    23-23000   \n",
      "56  Brahmaputra, 916*, 10#                     Temp (0C)       17-33   \n",
      "57  Brahmaputra, 916*, 10#                            pH       7-8.4   \n",
      "58  Brahmaputra, 916*, 10#       Conductivity (�mhos/cm)      95-493   \n",
      "59  Brahmaputra, 916*, 10#                      DO(mg/I)      4-10.5   \n",
      "60  Brahmaputra, 916*, 10#                     BOD(mg/I)     0.4-3.7   \n",
      "61  Brahmaputra, 916*, 10#                     COD(mg/I)      5-37.4   \n",
      "62  Brahmaputra, 916*, 10#    Total Coliform(MPN/100 ml)  300-11x104   \n",
      "63  Brahmaputra, 916*, 10#  Faecal Coliform (MPN/100 ml)  300-24x104   \n",
      "64                     NaN                           NaN         NaN   \n",
      "\n",
      "           2002         2003         2004        2005         2006  \\\n",
      "0          3-34         4-34         5-35        4-39         9-33   \n",
      "1       6.4-9.0      6.8-8.9        7-8.8       6.1-9     7.0-8.88   \n",
      "2       19-2720      49-1323      72-4080     23-1696      97-5620   \n",
      "3      207-11.5         4-11     0.3-13.2    3.2-12.8     2.2-11.9   \n",
      "4      0.5-16.8       0.8-27     0.7-14.4    0.1-15.2     0.1-16.4   \n",
      "5          1.30       2-47.2          NaN    1.0-37.6       4-38.4   \n",
      "6    300-25x105    47-45x105    11-45x105   13-45x105     1-25x105   \n",
      "7     20-11x105    26-12x105     11-7x105   13-11x105    17-11x105   \n",
      "8          3-34         2-38         7-35       11-37         4-34   \n",
      "9       6.7-9.8       6.6-10        6.8-9     6.8-9.1     7.14-9.5   \n",
      "10      56-1959     45-.3500      76-2150     90-2290     220-1876   \n",
      "11     0.1-22.7     0.3-22.8     0.3-19.5    0.5-17.3     1.3-18.8   \n",
      "12       1.0-36         1-58         1-40      0.8-59      1.0-144   \n",
      "13        1-112        1-187          NaN       1-180        4-240   \n",
      "14  27-26.3x106  110-171x107  21-1103x106  14-307x106    7-231x107   \n",
      "15  11-11.2x105   40-203x106    18-62x106   11-52x105     2-13x106   \n",
      "16          NaN        12-31        15-34       21-30         9-32   \n",
      "17      6.9-9.3      7.1-8.5        7-8.6       3.3-9      7.1-8.6   \n",
      "18     102-1341       95-441      181-815    190-1746      188-682   \n",
      "19      5.8-9.8      4.5-9.5      5.5-9.6    4.8-10.9       6.2-11   \n",
      "20      0.1-3.8      0.4-3.3      0.2-3.8     0.6-4.5      0.4-3.7   \n",
      "21         6-47         7-29          NaN     12-18.3         3-50   \n",
      "22       9-2400       4-1600       3-2400      3-2400       3-2400   \n",
      "23         2-64        1-110         2-15       2-210         0-39   \n",
      "24        22-35        22-37        21-35       23-32        19-34   \n",
      "25          7-9      7.1-8.7        6.5-9     6.7-9.1    6.65-9.11   \n",
      "26     111-1400     115-1350      86-1290    121-1300       75-691   \n",
      "27     3.1-10.9      3.2-9.3      2.4-9.2     0.8-8.7      1.1-9.6   \n",
      "28       0.5-78       1.7-53       0.2-15      0.5-20       1.2-32   \n",
      "29         3-96        5-188          NaN       4 -80         3-36   \n",
      "..          ...          ...          ...         ...          ...   \n",
      "35     2.9-10.9     0.7-12.6      0.4-9.2     1.4-8.8      3.0-8.5   \n",
      "36       0.2-10       0.5-17        0.3-9      0.4-40     0.4-14.8   \n",
      "37         3-88      10.5-68          NaN       4 -44      4 -32.4   \n",
      "38     17-33300      6-7x104   15-124x103   17-84x103    4 -86x103   \n",
      "39      3-1x103      2-2x104     3-28x103    1-34x103      1-6x103   \n",
      "40        21-37         8-34        19-35       20-37        20-34   \n",
      "41        2-9.2        7-9.2        6.6-9     6.2-9.5        7-9.3   \n",
      "42     31-53100     42-57200     35-39720    28-48700      26-1694   \n",
      "43     0.1-12.6     2.1-13.5      3.3-9.9     0.3-9.8      2.7-8.9   \n",
      "44     0.1-26.6       0.2-10          1-9        1-12          1-6   \n",
      "45         0-30       16-128          NaN       16-96         8-24   \n",
      "46    39-16x103     4-22x103      2-5x104      2-9500      90-3500   \n",
      "47     2-28x103      2-4x103     2-17x103     1-3x103       3-1400   \n",
      "48        18-38        17-37        17-34       22-34        20-32   \n",
      "49      7.3-8.9      6.5-8.6      6.3-8.8     6.1-8.7     6.97-8.9   \n",
      "50     27-15940     77-83600    105-20700    75-36279    113-34587   \n",
      "51     1.3-10.4     4.7-10.1     4.4 -9.4      4.5-10      4.7-8.5   \n",
      "52        1-7.6      0.3-5.6        0.2-4      0.2-16      0.2-3.8   \n",
      "53         7-39        10-70          NaN      4 -150        20-40   \n",
      "54     15-30000    4 -35x103     3-92x103    3-92x103   14 -92x103   \n",
      "55     50-17000    50-28x103    27-24x103   78-54x103    68-54x103   \n",
      "56        15-32        14-32        15-34         NaN        18-30   \n",
      "57        6.5-9      6.4-8.4        5.2-9     5.9-7.6        6.9-8   \n",
      "58     104 -684       77.570       91.445      20.408       55.485   \n",
      "59     1.1-10.5     1.2-11.5      1.1-9.4      2-10.5     4.2-10.2   \n",
      "60      0.1-3.9      0.4-3.5      0.4-4.3     0.3-6.2      0.3-5.7   \n",
      "61         6-11     4.8-27.4          NaN         NaN       3-47.2   \n",
      "62   360-240000   360-24x104   360-24x104         NaN     1-24x104   \n",
      "63     30024000   300-24x104   300-24x104  150-24x104  300-24 x104   \n",
      "64          NaN          NaN          NaN         NaN          NaN   \n",
      "\n",
      "          2007        2008        2009        2010         2011  Unnamed: 13  \\\n",
      "0         4-33    2.5-35.5        4-37        4-35       3 - 37          NaN   \n",
      "1      6.1-8.8     6.1-8.9     6.5-8.9     6.7-9.0    6.7 - 9.1          NaN   \n",
      "2      23-5040     39-6320     68-4460     21-5250   49 - 10240          NaN   \n",
      "3       1.4-11    1.2-11.6    4.3-11.2      3.6-12      4 -14.3          NaN   \n",
      "4         0-14      1.0-36      0.2-16      0.2-15       0.2-11          NaN   \n",
      "5       2.6-30        1-34      2-34.2         NaN          NaN          NaN   \n",
      "6     0-28x105   0-101x105    2.65x104    3-14x105   5 - 25x105          NaN   \n",
      "7      0-7x105    0-85x104     0-4x105     2-4x105     5-11x105          NaN   \n",
      "8       6.5-34      7.5-32        5-35        5-35       4 - 38          NaN   \n",
      "9        5-8.4     6.8-9.5     7.0-8.8    6.1 -9.4    6.9 - 8.8          NaN   \n",
      "10     57-1940     40-3340     80-3040    100-2220    60 - 1905          NaN   \n",
      "11      0-17.7    0.0-20.6    0.0-17.9    0.0-21.1         0-17          NaN   \n",
      "12        0-93    0.4-70.0     0.2-103       08-84     0.2 - 41          NaN   \n",
      "13     1.0-407       1-224       2-115         NaN          NaN          NaN   \n",
      "14    0-32x107   0-103x106    4-23x109  13 -39x107    10-16x108          NaN   \n",
      "15    0-23x106  11-109x105    9-21x108    9-29x106     4.11x108          NaN   \n",
      "16       19-31       14-32       17-33       19-39    14.7 - 38          NaN   \n",
      "17     7.5-8.8      6.8-10     6.5-8.9     7.2-8.5    7.1 - 8.6          NaN   \n",
      "18    244-1629     180-853    178-1930     194-727    217 - 651          NaN   \n",
      "19    6.2-10.4      4.9-13    4.2-11.5      4.8-11    6.2 - 9.9          NaN   \n",
      "20     1.2-3.5    0.2-11.4      0.2-30    0.21-5.4    0.8 - 5.0          NaN   \n",
      "21      3-19.3        5.46        6-60         NaN          NaN          NaN   \n",
      "22      7-1600      0-2400      2-1600   4 - 11000      4.-1600          NaN   \n",
      "23        0-15       0-140        0-90      0-4600         0-17          NaN   \n",
      "24       20-37       13-35       15-41       12-40        18-40          NaN   \n",
      "25     5.9-8.9     5.2-9.6       6-9.2     5.4-8.9      6.4-9.1          NaN   \n",
      "26     126-918    114-3994    115-3169     91-1670     132-1959          NaN   \n",
      "27     3.2-7.5    1.2-11.3    3.2-12.3    1.8-14.2    1.2- 12.2          NaN   \n",
      "28      0.2-36      0.2-20      0.0-26      0.3-60     0.0 - 37          NaN   \n",
      "29        2-16       4 -24      0.4-64         NaN          NaN          NaN   \n",
      "..         ...         ...         ...         ...          ...          ...   \n",
      "35      3.0-10     1.1-9.8      0-12.6    1.5-11.8   1.7 - 15.8          NaN   \n",
      "36     0.1-9.8    0.2-17.6     0.3-9.6        0-10      0.4 -16          NaN   \n",
      "37       4 -48       4 -40      4.0-45         NaN          NaN          NaN   \n",
      "38    0-71x103    8-16x103    8-170000      2-4000      4-16000          NaN   \n",
      "39      0-1600     0-3x103      0-1400      0-1600     2 - 9000          NaN   \n",
      "40       19-32       20-35       20-34       21-30        20-34          NaN   \n",
      "41     6.5-8.8     6.5-8.8     6.5-8.9     6.5-8.9      4.3-8.9          NaN   \n",
      "42    28-56500    27-28700    65-81800     18-8430       7-3640          NaN   \n",
      "43      0-12.4      0.6-14    1.5-10.3    0.4-12.2    1.7 -10.9          NaN   \n",
      "44      0.1-38      0.1-23      0.1-17      0.1-27     0.1 -7.2          NaN   \n",
      "45        8-45       10-45       12-48         NaN          NaN          NaN   \n",
      "46   40-28x103     27-5400      7-9200    70-15000      90-6200          NaN   \n",
      "47    4-17x103      0-3500      2-5400    20-12000      20-2200          NaN   \n",
      "48       26-33       18-36       17-39       17-39        18-36          NaN   \n",
      "49    7.3-8.54     6.7-8.8     6.7-8.8     7.0-9.3      7.1-8.5          NaN   \n",
      "50     102-813   109-29400   103-48830    93-42350     90-13190          NaN   \n",
      "51     6.2-8.9     0.8-8.9      0.2-11      4.4-11   4.9 - 10.5          NaN   \n",
      "52     1.2-3.6     0.2-4.6     0.2-7.1    0.2-14.3    0.6 - 3.6          NaN   \n",
      "53      2.8-30      3-87.4      3.2-28         NaN          NaN          NaN   \n",
      "54   27-35x103   15-16x104   5-1600000   10-160000  10 - 160000          NaN   \n",
      "55  700-17x103  310-54x103  110-160000    45-92000  78 - 160000          NaN   \n",
      "56       18-32       12-32       17-31       18-32      17 - 32          NaN   \n",
      "57     5.9-7.9     6.1-8.1     6.1-8.1     6.5-8.1     6.1 -8.5          NaN   \n",
      "58      76.645      75.460      69-303      49-371     68 - 238          NaN   \n",
      "59      5.1-10     3.3-9.6    4.4-10.5     3.6-9.4     4.4 - 30          NaN   \n",
      "60     0.1-3.4    0.4 -5.4     0.3-5.4     0.6-6.3    0.3 - 9.2          NaN   \n",
      "61    3.1-15.4    6.1-12.1    4.3-13.5         NaN          NaN          NaN   \n",
      "62    0-24x104    1-24x104     1-24000      0-3000    0 - 15000          NaN   \n",
      "63    0-24x104    0-24x103      0-1100       0-360      0 -1500          NaN   \n",
      "64         NaN         NaN         NaN         NaN          NaN          NaN   \n",
      "\n",
      "    Unnamed: 14  \n",
      "0           NaN  \n",
      "1           NaN  \n",
      "2           NaN  \n",
      "3           NaN  \n",
      "4           NaN  \n",
      "5           NaN  \n",
      "6           NaN  \n",
      "7           NaN  \n",
      "8           NaN  \n",
      "9           NaN  \n",
      "10          NaN  \n",
      "11          NaN  \n",
      "12          NaN  \n",
      "13          NaN  \n",
      "14          NaN  \n",
      "15          NaN  \n",
      "16          NaN  \n",
      "17          NaN  \n",
      "18          NaN  \n",
      "19          NaN  \n",
      "20          NaN  \n",
      "21          NaN  \n",
      "22          NaN  \n",
      "23          NaN  \n",
      "24          NaN  \n",
      "25          NaN  \n",
      "26          NaN  \n",
      "27          NaN  \n",
      "28          NaN  \n",
      "29          NaN  \n",
      "..          ...  \n",
      "35          NaN  \n",
      "36          NaN  \n",
      "37          NaN  \n",
      "38          NaN  \n",
      "39          NaN  \n",
      "40          NaN  \n",
      "41          NaN  \n",
      "42          NaN  \n",
      "43          NaN  \n",
      "44          NaN  \n",
      "45          NaN  \n",
      "46          NaN  \n",
      "47          NaN  \n",
      "48          NaN  \n",
      "49          NaN  \n",
      "50          NaN  \n",
      "51          NaN  \n",
      "52          NaN  \n",
      "53          NaN  \n",
      "54          NaN  \n",
      "55          NaN  \n",
      "56          NaN  \n",
      "57          NaN  \n",
      "58          NaN  \n",
      "59          NaN  \n",
      "60          NaN  \n",
      "61          NaN  \n",
      "62          NaN  \n",
      "63          NaN  \n",
      "64          NaN  \n",
      "\n",
      "[65 rows x 15 columns]\n"
     ]
    }
   ],
   "source": [
    "print river_data"
   ]
  },
  {
   "cell_type": "code",
   "execution_count": 43,
   "metadata": {
    "collapsed": false
   },
   "outputs": [
    {
     "name": "stdout",
     "output_type": "stream",
     "text": [
      "1     6.1-9.0\n",
      "9       6.1-9\n",
      "17      7-8.6\n",
      "25    6.9-8.8\n",
      "33        7-9\n",
      "41      7-8.9\n",
      "49        7-9\n",
      "57      7-8.4\n",
      "Name: 2001, dtype: object\n"
     ]
    }
   ],
   "source": [
    "print ph_river_data['2001']"
   ]
  },
  {
   "cell_type": "code",
   "execution_count": 44,
   "metadata": {
    "collapsed": false
   },
   "outputs": [
    {
     "name": "stdout",
     "output_type": "stream",
     "text": [
      "6.1-9.0\n",
      "6.1-9\n",
      "7-8.6\n",
      "6.9-8.8\n",
      "7-9\n",
      "7-8.9\n",
      "7-9\n",
      "7-8.4\n"
     ]
    }
   ],
   "source": [
    "for data in ph_river_data['2001']:\n",
    "    print data"
   ]
  },
  {
   "cell_type": "code",
   "execution_count": 45,
   "metadata": {
    "collapsed": false
   },
   "outputs": [
    {
     "name": "stdout",
     "output_type": "stream",
     "text": [
      "6.1\n",
      "6.1\n",
      "7\n",
      "6.9\n",
      "7\n",
      "7\n",
      "7\n",
      "7\n"
     ]
    }
   ],
   "source": [
    "for data in ph_river_data['2001']:\n",
    "    print data.split('-')[0]"
   ]
  },
  {
   "cell_type": "code",
   "execution_count": 46,
   "metadata": {
    "collapsed": true
   },
   "outputs": [],
   "source": [
    "river_names = river_data['Category']"
   ]
  },
  {
   "cell_type": "code",
   "execution_count": 47,
   "metadata": {
    "collapsed": false
   },
   "outputs": [
    {
     "name": "stdout",
     "output_type": "stream",
     "text": [
      "0          Ganga, 2525*, 57#\n",
      "1          Ganga, 2525*, 57#\n",
      "2          Ganga, 2525*, 57#\n",
      "3          Ganga, 2525*, 57#\n",
      "4          Ganga, 2525*, 57#\n",
      "5          Ganga, 2525*, 57#\n",
      "6          Ganga, 2525*, 57#\n",
      "7          Ganga, 2525*, 57#\n",
      "8         Yamuna, 1376*, 27#\n",
      "9         Yamuna, 1376*, 27#\n",
      "10        Yamuna, 1376*, 27#\n",
      "11        Yamuna, 1376*, 27#\n",
      "12        Yamuna, 1376*, 27#\n",
      "13        Yamuna, 1376*, 27#\n",
      "14        Yamuna, 1376*, 27#\n",
      "15        Yamuna, 1376*, 27#\n",
      "16       Narmada, 1312*, 21#\n",
      "17       Narmada, 1312*, 21#\n",
      "18       Narmada, 1312*, 21#\n",
      "19       Narmada, 1312*, 21#\n",
      "20       Narmada, 1312*, 21#\n",
      "21       Narmada, 1312*, 21#\n",
      "22       Narmada, 1312*, 21#\n",
      "23       Narmada, 1312*, 21#\n",
      "24      Godawari, 1465*, 35#\n",
      "25      Godawari, 1465*, 35#\n",
      "26      Godawari, 1465*, 35#\n",
      "27      Godawari, 1465*, 35#\n",
      "28      Godawari, 1465*, 35#\n",
      "29      Godawari, 1465*, 35#\n",
      "               ...          \n",
      "35       Krishna, 1401*, 24#\n",
      "36       Krishna, 1401*, 24#\n",
      "37       Krishna, 1401*, 24#\n",
      "38       Krishna, 1401*, 24#\n",
      "39       Krishna, 1401*, 24#\n",
      "40        Cauvery, 800*, 29#\n",
      "41        Cauvery, 800*, 29#\n",
      "42        Cauvery, 800*, 29#\n",
      "43        Cauvery, 800*, 29#\n",
      "44        Cauvery, 800*, 29#\n",
      "45        Cauvery, 800*, 29#\n",
      "46        Cauvery, 800*, 29#\n",
      "47        Cauvery, 800*, 29#\n",
      "48       Mahanadi, 851*, 22#\n",
      "49       Mahanadi, 851*, 22#\n",
      "50       Mahanadi, 851*, 22#\n",
      "51       Mahanadi, 851*, 22#\n",
      "52       Mahanadi, 851*, 22#\n",
      "53       Mahanadi, 851*, 22#\n",
      "54       Mahanadi, 851*, 22#\n",
      "55       Mahanadi, 851*, 22#\n",
      "56    Brahmaputra, 916*, 10#\n",
      "57    Brahmaputra, 916*, 10#\n",
      "58    Brahmaputra, 916*, 10#\n",
      "59    Brahmaputra, 916*, 10#\n",
      "60    Brahmaputra, 916*, 10#\n",
      "61    Brahmaputra, 916*, 10#\n",
      "62    Brahmaputra, 916*, 10#\n",
      "63    Brahmaputra, 916*, 10#\n",
      "64                       NaN\n",
      "Name: Category, dtype: object\n"
     ]
    }
   ],
   "source": [
    "print river_names"
   ]
  },
  {
   "cell_type": "code",
   "execution_count": 48,
   "metadata": {
    "collapsed": true
   },
   "outputs": [],
   "source": [
    "ph_river_data = river_data[river_data['Parameter'] == 'pH']"
   ]
  },
  {
   "cell_type": "code",
   "execution_count": 49,
   "metadata": {
    "collapsed": false
   },
   "outputs": [
    {
     "name": "stdout",
     "output_type": "stream",
     "text": [
      "                  Category Parameter     2001     2002     2003     2004  \\\n",
      "1        Ganga, 2525*, 57#        pH  6.1-9.0  6.4-9.0  6.8-8.9    7-8.8   \n",
      "9       Yamuna, 1376*, 27#        pH    6.1-9  6.7-9.8   6.6-10    6.8-9   \n",
      "17     Narmada, 1312*, 21#        pH    7-8.6  6.9-9.3  7.1-8.5    7-8.6   \n",
      "25    Godawari, 1465*, 35#        pH  6.9-8.8      7-9  7.1-8.7    6.5-9   \n",
      "33     Krishna, 1401*, 24#        pH      7-9  6.8-9.5  6.7-8.9    6.7-9   \n",
      "41      Cauvery, 800*, 29#        pH    7-8.9    2-9.2    7-9.2    6.6-9   \n",
      "49     Mahanadi, 851*, 22#        pH      7-9  7.3-8.9  6.5-8.6  6.3-8.8   \n",
      "57  Brahmaputra, 916*, 10#        pH    7-8.4    6.5-9  6.4-8.4    5.2-9   \n",
      "\n",
      "       2005       2006      2007     2008     2009      2010       2011  \\\n",
      "1     6.1-9   7.0-8.88   6.1-8.8  6.1-8.9  6.5-8.9   6.7-9.0  6.7 - 9.1   \n",
      "9   6.8-9.1   7.14-9.5     5-8.4  6.8-9.5  7.0-8.8  6.1 -9.4  6.9 - 8.8   \n",
      "17    3.3-9    7.1-8.6   7.5-8.8   6.8-10  6.5-8.9   7.2-8.5  7.1 - 8.6   \n",
      "25  6.7-9.1  6.65-9.11   5.9-8.9  5.2-9.6    6-9.2   5.4-8.9    6.4-9.1   \n",
      "33  6.5-9.9  6.32-9.30   6.2-9.1  5.8-8.9  6.7-9.0   6.5-9.1   6.9 -8.7   \n",
      "41  6.2-9.5      7-9.3   6.5-8.8  6.5-8.8  6.5-8.9   6.5-8.9    4.3-8.9   \n",
      "49  6.1-8.7   6.97-8.9  7.3-8.54  6.7-8.8  6.7-8.8   7.0-9.3    7.1-8.5   \n",
      "57  5.9-7.6      6.9-8   5.9-7.9  6.1-8.1  6.1-8.1   6.5-8.1   6.1 -8.5   \n",
      "\n",
      "    Unnamed: 13  Unnamed: 14  \n",
      "1           NaN          NaN  \n",
      "9           NaN          NaN  \n",
      "17          NaN          NaN  \n",
      "25          NaN          NaN  \n",
      "33          NaN          NaN  \n",
      "41          NaN          NaN  \n",
      "49          NaN          NaN  \n",
      "57          NaN          NaN  \n"
     ]
    }
   ],
   "source": [
    "print  ph_river_data"
   ]
  },
  {
   "cell_type": "code",
   "execution_count": 50,
   "metadata": {
    "collapsed": false
   },
   "outputs": [
    {
     "name": "stdout",
     "output_type": "stream",
     "text": [
      "1          Ganga, 2525*, 57#\n",
      "9         Yamuna, 1376*, 27#\n",
      "17       Narmada, 1312*, 21#\n",
      "25      Godawari, 1465*, 35#\n",
      "33       Krishna, 1401*, 24#\n",
      "41        Cauvery, 800*, 29#\n",
      "49       Mahanadi, 851*, 22#\n",
      "57    Brahmaputra, 916*, 10#\n",
      "Name: Category, dtype: object\n"
     ]
    }
   ],
   "source": [
    "river_names = ph_river_data['Category']\n",
    "print river_names"
   ]
  },
  {
   "cell_type": "code",
   "execution_count": 51,
   "metadata": {
    "collapsed": false
   },
   "outputs": [
    {
     "ename": "KeyError",
     "evalue": "0L",
     "output_type": "error",
     "traceback": [
      "\u001b[0;31m---------------------------------------------------------------------------\u001b[0m",
      "\u001b[0;31mKeyError\u001b[0m                                  Traceback (most recent call last)",
      "\u001b[0;32m<ipython-input-51-dd6e65feb60c>\u001b[0m in \u001b[0;36m<module>\u001b[0;34m()\u001b[0m\n\u001b[0;32m----> 1\u001b[0;31m \u001b[0mriver_names\u001b[0m\u001b[1;33m[\u001b[0m\u001b[1;36m0\u001b[0m\u001b[1;33m]\u001b[0m\u001b[1;33m\u001b[0m\u001b[0m\n\u001b[0m",
      "\u001b[0;32mC:\\Users\\Ashish Agrawal\\Anaconda2\\lib\\site-packages\\pandas\\core\\series.pyc\u001b[0m in \u001b[0;36m__getitem__\u001b[0;34m(self, key)\u001b[0m\n\u001b[1;32m    581\u001b[0m         \u001b[0mkey\u001b[0m \u001b[1;33m=\u001b[0m \u001b[0mcom\u001b[0m\u001b[1;33m.\u001b[0m\u001b[0m_apply_if_callable\u001b[0m\u001b[1;33m(\u001b[0m\u001b[0mkey\u001b[0m\u001b[1;33m,\u001b[0m \u001b[0mself\u001b[0m\u001b[1;33m)\u001b[0m\u001b[1;33m\u001b[0m\u001b[0m\n\u001b[1;32m    582\u001b[0m         \u001b[1;32mtry\u001b[0m\u001b[1;33m:\u001b[0m\u001b[1;33m\u001b[0m\u001b[0m\n\u001b[0;32m--> 583\u001b[0;31m             \u001b[0mresult\u001b[0m \u001b[1;33m=\u001b[0m \u001b[0mself\u001b[0m\u001b[1;33m.\u001b[0m\u001b[0mindex\u001b[0m\u001b[1;33m.\u001b[0m\u001b[0mget_value\u001b[0m\u001b[1;33m(\u001b[0m\u001b[0mself\u001b[0m\u001b[1;33m,\u001b[0m \u001b[0mkey\u001b[0m\u001b[1;33m)\u001b[0m\u001b[1;33m\u001b[0m\u001b[0m\n\u001b[0m\u001b[1;32m    584\u001b[0m \u001b[1;33m\u001b[0m\u001b[0m\n\u001b[1;32m    585\u001b[0m             \u001b[1;32mif\u001b[0m \u001b[1;32mnot\u001b[0m \u001b[0mlib\u001b[0m\u001b[1;33m.\u001b[0m\u001b[0misscalar\u001b[0m\u001b[1;33m(\u001b[0m\u001b[0mresult\u001b[0m\u001b[1;33m)\u001b[0m\u001b[1;33m:\u001b[0m\u001b[1;33m\u001b[0m\u001b[0m\n",
      "\u001b[0;32mC:\\Users\\Ashish Agrawal\\Anaconda2\\lib\\site-packages\\pandas\\indexes\\base.pyc\u001b[0m in \u001b[0;36mget_value\u001b[0;34m(self, series, key)\u001b[0m\n\u001b[1;32m   1978\u001b[0m         \u001b[1;32mtry\u001b[0m\u001b[1;33m:\u001b[0m\u001b[1;33m\u001b[0m\u001b[0m\n\u001b[1;32m   1979\u001b[0m             return self._engine.get_value(s, k,\n\u001b[0;32m-> 1980\u001b[0;31m                                           tz=getattr(series.dtype, 'tz', None))\n\u001b[0m\u001b[1;32m   1981\u001b[0m         \u001b[1;32mexcept\u001b[0m \u001b[0mKeyError\u001b[0m \u001b[1;32mas\u001b[0m \u001b[0me1\u001b[0m\u001b[1;33m:\u001b[0m\u001b[1;33m\u001b[0m\u001b[0m\n\u001b[1;32m   1982\u001b[0m             \u001b[1;32mif\u001b[0m \u001b[0mlen\u001b[0m\u001b[1;33m(\u001b[0m\u001b[0mself\u001b[0m\u001b[1;33m)\u001b[0m \u001b[1;33m>\u001b[0m \u001b[1;36m0\u001b[0m \u001b[1;32mand\u001b[0m \u001b[0mself\u001b[0m\u001b[1;33m.\u001b[0m\u001b[0minferred_type\u001b[0m \u001b[1;32min\u001b[0m \u001b[1;33m[\u001b[0m\u001b[1;34m'integer'\u001b[0m\u001b[1;33m,\u001b[0m \u001b[1;34m'boolean'\u001b[0m\u001b[1;33m]\u001b[0m\u001b[1;33m:\u001b[0m\u001b[1;33m\u001b[0m\u001b[0m\n",
      "\u001b[0;32mpandas\\index.pyx\u001b[0m in \u001b[0;36mpandas.index.IndexEngine.get_value (pandas\\index.c:3332)\u001b[0;34m()\u001b[0m\n",
      "\u001b[0;32mpandas\\index.pyx\u001b[0m in \u001b[0;36mpandas.index.IndexEngine.get_value (pandas\\index.c:3035)\u001b[0;34m()\u001b[0m\n",
      "\u001b[0;32mpandas\\index.pyx\u001b[0m in \u001b[0;36mpandas.index.IndexEngine.get_loc (pandas\\index.c:4018)\u001b[0;34m()\u001b[0m\n",
      "\u001b[0;32mpandas\\hashtable.pyx\u001b[0m in \u001b[0;36mpandas.hashtable.Int64HashTable.get_item (pandas\\hashtable.c:6610)\u001b[0;34m()\u001b[0m\n",
      "\u001b[0;32mpandas\\hashtable.pyx\u001b[0m in \u001b[0;36mpandas.hashtable.Int64HashTable.get_item (pandas\\hashtable.c:6554)\u001b[0;34m()\u001b[0m\n",
      "\u001b[0;31mKeyError\u001b[0m: 0L"
     ]
    }
   ],
   "source": [
    "river_names[0]"
   ]
  },
  {
   "cell_type": "code",
   "execution_count": 52,
   "metadata": {
    "collapsed": true
   },
   "outputs": [],
   "source": [
    "river_names = []\n",
    "river_names = ph_river_data['Category']"
   ]
  },
  {
   "cell_type": "code",
   "execution_count": 53,
   "metadata": {
    "collapsed": false
   },
   "outputs": [
    {
     "ename": "KeyError",
     "evalue": "0L",
     "output_type": "error",
     "traceback": [
      "\u001b[0;31m---------------------------------------------------------------------------\u001b[0m",
      "\u001b[0;31mKeyError\u001b[0m                                  Traceback (most recent call last)",
      "\u001b[0;32m<ipython-input-53-8aaa1869725c>\u001b[0m in \u001b[0;36m<module>\u001b[0;34m()\u001b[0m\n\u001b[0;32m----> 1\u001b[0;31m \u001b[1;32mprint\u001b[0m \u001b[0mriver_names\u001b[0m\u001b[1;33m[\u001b[0m\u001b[1;36m0\u001b[0m\u001b[1;33m]\u001b[0m\u001b[1;33m\u001b[0m\u001b[0m\n\u001b[0m",
      "\u001b[0;32mC:\\Users\\Ashish Agrawal\\Anaconda2\\lib\\site-packages\\pandas\\core\\series.pyc\u001b[0m in \u001b[0;36m__getitem__\u001b[0;34m(self, key)\u001b[0m\n\u001b[1;32m    581\u001b[0m         \u001b[0mkey\u001b[0m \u001b[1;33m=\u001b[0m \u001b[0mcom\u001b[0m\u001b[1;33m.\u001b[0m\u001b[0m_apply_if_callable\u001b[0m\u001b[1;33m(\u001b[0m\u001b[0mkey\u001b[0m\u001b[1;33m,\u001b[0m \u001b[0mself\u001b[0m\u001b[1;33m)\u001b[0m\u001b[1;33m\u001b[0m\u001b[0m\n\u001b[1;32m    582\u001b[0m         \u001b[1;32mtry\u001b[0m\u001b[1;33m:\u001b[0m\u001b[1;33m\u001b[0m\u001b[0m\n\u001b[0;32m--> 583\u001b[0;31m             \u001b[0mresult\u001b[0m \u001b[1;33m=\u001b[0m \u001b[0mself\u001b[0m\u001b[1;33m.\u001b[0m\u001b[0mindex\u001b[0m\u001b[1;33m.\u001b[0m\u001b[0mget_value\u001b[0m\u001b[1;33m(\u001b[0m\u001b[0mself\u001b[0m\u001b[1;33m,\u001b[0m \u001b[0mkey\u001b[0m\u001b[1;33m)\u001b[0m\u001b[1;33m\u001b[0m\u001b[0m\n\u001b[0m\u001b[1;32m    584\u001b[0m \u001b[1;33m\u001b[0m\u001b[0m\n\u001b[1;32m    585\u001b[0m             \u001b[1;32mif\u001b[0m \u001b[1;32mnot\u001b[0m \u001b[0mlib\u001b[0m\u001b[1;33m.\u001b[0m\u001b[0misscalar\u001b[0m\u001b[1;33m(\u001b[0m\u001b[0mresult\u001b[0m\u001b[1;33m)\u001b[0m\u001b[1;33m:\u001b[0m\u001b[1;33m\u001b[0m\u001b[0m\n",
      "\u001b[0;32mC:\\Users\\Ashish Agrawal\\Anaconda2\\lib\\site-packages\\pandas\\indexes\\base.pyc\u001b[0m in \u001b[0;36mget_value\u001b[0;34m(self, series, key)\u001b[0m\n\u001b[1;32m   1978\u001b[0m         \u001b[1;32mtry\u001b[0m\u001b[1;33m:\u001b[0m\u001b[1;33m\u001b[0m\u001b[0m\n\u001b[1;32m   1979\u001b[0m             return self._engine.get_value(s, k,\n\u001b[0;32m-> 1980\u001b[0;31m                                           tz=getattr(series.dtype, 'tz', None))\n\u001b[0m\u001b[1;32m   1981\u001b[0m         \u001b[1;32mexcept\u001b[0m \u001b[0mKeyError\u001b[0m \u001b[1;32mas\u001b[0m \u001b[0me1\u001b[0m\u001b[1;33m:\u001b[0m\u001b[1;33m\u001b[0m\u001b[0m\n\u001b[1;32m   1982\u001b[0m             \u001b[1;32mif\u001b[0m \u001b[0mlen\u001b[0m\u001b[1;33m(\u001b[0m\u001b[0mself\u001b[0m\u001b[1;33m)\u001b[0m \u001b[1;33m>\u001b[0m \u001b[1;36m0\u001b[0m \u001b[1;32mand\u001b[0m \u001b[0mself\u001b[0m\u001b[1;33m.\u001b[0m\u001b[0minferred_type\u001b[0m \u001b[1;32min\u001b[0m \u001b[1;33m[\u001b[0m\u001b[1;34m'integer'\u001b[0m\u001b[1;33m,\u001b[0m \u001b[1;34m'boolean'\u001b[0m\u001b[1;33m]\u001b[0m\u001b[1;33m:\u001b[0m\u001b[1;33m\u001b[0m\u001b[0m\n",
      "\u001b[0;32mpandas\\index.pyx\u001b[0m in \u001b[0;36mpandas.index.IndexEngine.get_value (pandas\\index.c:3332)\u001b[0;34m()\u001b[0m\n",
      "\u001b[0;32mpandas\\index.pyx\u001b[0m in \u001b[0;36mpandas.index.IndexEngine.get_value (pandas\\index.c:3035)\u001b[0;34m()\u001b[0m\n",
      "\u001b[0;32mpandas\\index.pyx\u001b[0m in \u001b[0;36mpandas.index.IndexEngine.get_loc (pandas\\index.c:4018)\u001b[0;34m()\u001b[0m\n",
      "\u001b[0;32mpandas\\hashtable.pyx\u001b[0m in \u001b[0;36mpandas.hashtable.Int64HashTable.get_item (pandas\\hashtable.c:6610)\u001b[0;34m()\u001b[0m\n",
      "\u001b[0;32mpandas\\hashtable.pyx\u001b[0m in \u001b[0;36mpandas.hashtable.Int64HashTable.get_item (pandas\\hashtable.c:6554)\u001b[0;34m()\u001b[0m\n",
      "\u001b[0;31mKeyError\u001b[0m: 0L"
     ]
    }
   ],
   "source": [
    "print river_names[0]"
   ]
  },
  {
   "cell_type": "code",
   "execution_count": 54,
   "metadata": {
    "collapsed": false
   },
   "outputs": [
    {
     "ename": "TypeError",
     "evalue": "cannot concatenate a non-NDFrame object",
     "output_type": "error",
     "traceback": [
      "\u001b[0;31m---------------------------------------------------------------------------\u001b[0m",
      "\u001b[0;31mTypeError\u001b[0m                                 Traceback (most recent call last)",
      "\u001b[0;32m<ipython-input-54-4fdf48267808>\u001b[0m in \u001b[0;36m<module>\u001b[0;34m()\u001b[0m\n\u001b[1;32m      1\u001b[0m \u001b[1;32mfor\u001b[0m \u001b[0ms\u001b[0m \u001b[1;32min\u001b[0m \u001b[0mriver_data\u001b[0m\u001b[1;33m[\u001b[0m\u001b[1;34m'Category'\u001b[0m\u001b[1;33m]\u001b[0m\u001b[1;33m:\u001b[0m\u001b[1;33m\u001b[0m\u001b[0m\n\u001b[0;32m----> 2\u001b[0;31m     \u001b[0mriver_names\u001b[0m\u001b[1;33m.\u001b[0m\u001b[0mappend\u001b[0m\u001b[1;33m(\u001b[0m\u001b[0ms\u001b[0m\u001b[1;33m)\u001b[0m\u001b[1;33m\u001b[0m\u001b[0m\n\u001b[0m",
      "\u001b[0;32mC:\\Users\\Ashish Agrawal\\Anaconda2\\lib\\site-packages\\pandas\\core\\series.pyc\u001b[0m in \u001b[0;36mappend\u001b[0;34m(self, to_append, verify_integrity)\u001b[0m\n\u001b[1;32m   1551\u001b[0m             \u001b[0mto_concat\u001b[0m \u001b[1;33m=\u001b[0m \u001b[1;33m[\u001b[0m\u001b[0mself\u001b[0m\u001b[1;33m,\u001b[0m \u001b[0mto_append\u001b[0m\u001b[1;33m]\u001b[0m\u001b[1;33m\u001b[0m\u001b[0m\n\u001b[1;32m   1552\u001b[0m         return concat(to_concat, ignore_index=False,\n\u001b[0;32m-> 1553\u001b[0;31m                       verify_integrity=verify_integrity)\n\u001b[0m\u001b[1;32m   1554\u001b[0m \u001b[1;33m\u001b[0m\u001b[0m\n\u001b[1;32m   1555\u001b[0m     \u001b[1;32mdef\u001b[0m \u001b[0m_binop\u001b[0m\u001b[1;33m(\u001b[0m\u001b[0mself\u001b[0m\u001b[1;33m,\u001b[0m \u001b[0mother\u001b[0m\u001b[1;33m,\u001b[0m \u001b[0mfunc\u001b[0m\u001b[1;33m,\u001b[0m \u001b[0mlevel\u001b[0m\u001b[1;33m=\u001b[0m\u001b[0mNone\u001b[0m\u001b[1;33m,\u001b[0m \u001b[0mfill_value\u001b[0m\u001b[1;33m=\u001b[0m\u001b[0mNone\u001b[0m\u001b[1;33m)\u001b[0m\u001b[1;33m:\u001b[0m\u001b[1;33m\u001b[0m\u001b[0m\n",
      "\u001b[0;32mC:\\Users\\Ashish Agrawal\\Anaconda2\\lib\\site-packages\\pandas\\tools\\merge.pyc\u001b[0m in \u001b[0;36mconcat\u001b[0;34m(objs, axis, join, join_axes, ignore_index, keys, levels, names, verify_integrity, copy)\u001b[0m\n\u001b[1;32m    843\u001b[0m                        \u001b[0mkeys\u001b[0m\u001b[1;33m=\u001b[0m\u001b[0mkeys\u001b[0m\u001b[1;33m,\u001b[0m \u001b[0mlevels\u001b[0m\u001b[1;33m=\u001b[0m\u001b[0mlevels\u001b[0m\u001b[1;33m,\u001b[0m \u001b[0mnames\u001b[0m\u001b[1;33m=\u001b[0m\u001b[0mnames\u001b[0m\u001b[1;33m,\u001b[0m\u001b[1;33m\u001b[0m\u001b[0m\n\u001b[1;32m    844\u001b[0m                        \u001b[0mverify_integrity\u001b[0m\u001b[1;33m=\u001b[0m\u001b[0mverify_integrity\u001b[0m\u001b[1;33m,\u001b[0m\u001b[1;33m\u001b[0m\u001b[0m\n\u001b[0;32m--> 845\u001b[0;31m                        copy=copy)\n\u001b[0m\u001b[1;32m    846\u001b[0m     \u001b[1;32mreturn\u001b[0m \u001b[0mop\u001b[0m\u001b[1;33m.\u001b[0m\u001b[0mget_result\u001b[0m\u001b[1;33m(\u001b[0m\u001b[1;33m)\u001b[0m\u001b[1;33m\u001b[0m\u001b[0m\n\u001b[1;32m    847\u001b[0m \u001b[1;33m\u001b[0m\u001b[0m\n",
      "\u001b[0;32mC:\\Users\\Ashish Agrawal\\Anaconda2\\lib\\site-packages\\pandas\\tools\\merge.pyc\u001b[0m in \u001b[0;36m__init__\u001b[0;34m(self, objs, axis, join, join_axes, keys, levels, names, ignore_index, verify_integrity, copy)\u001b[0m\n\u001b[1;32m    899\u001b[0m         \u001b[1;32mfor\u001b[0m \u001b[0mobj\u001b[0m \u001b[1;32min\u001b[0m \u001b[0mobjs\u001b[0m\u001b[1;33m:\u001b[0m\u001b[1;33m\u001b[0m\u001b[0m\n\u001b[1;32m    900\u001b[0m             \u001b[1;32mif\u001b[0m \u001b[1;32mnot\u001b[0m \u001b[0misinstance\u001b[0m\u001b[1;33m(\u001b[0m\u001b[0mobj\u001b[0m\u001b[1;33m,\u001b[0m \u001b[0mNDFrame\u001b[0m\u001b[1;33m)\u001b[0m\u001b[1;33m:\u001b[0m\u001b[1;33m\u001b[0m\u001b[0m\n\u001b[0;32m--> 901\u001b[0;31m                 \u001b[1;32mraise\u001b[0m \u001b[0mTypeError\u001b[0m\u001b[1;33m(\u001b[0m\u001b[1;34m\"cannot concatenate a non-NDFrame object\"\u001b[0m\u001b[1;33m)\u001b[0m\u001b[1;33m\u001b[0m\u001b[0m\n\u001b[0m\u001b[1;32m    902\u001b[0m \u001b[1;33m\u001b[0m\u001b[0m\n\u001b[1;32m    903\u001b[0m             \u001b[1;31m# consolidate\u001b[0m\u001b[1;33m\u001b[0m\u001b[1;33m\u001b[0m\u001b[0m\n",
      "\u001b[0;31mTypeError\u001b[0m: cannot concatenate a non-NDFrame object"
     ]
    }
   ],
   "source": [
    "for s in river_data['Category']:\n",
    "    river_names.append(s)"
   ]
  },
  {
   "cell_type": "code",
   "execution_count": 55,
   "metadata": {
    "collapsed": false
   },
   "outputs": [
    {
     "ename": "NameError",
     "evalue": "name 'mean' is not defined",
     "output_type": "error",
     "traceback": [
      "\u001b[0;31m---------------------------------------------------------------------------\u001b[0m",
      "\u001b[0;31mNameError\u001b[0m                                 Traceback (most recent call last)",
      "\u001b[0;32m<ipython-input-55-0682632659bf>\u001b[0m in \u001b[0;36m<module>\u001b[0;34m()\u001b[0m\n\u001b[0;32m----> 1\u001b[0;31m \u001b[1;32mprint\u001b[0m \u001b[0mmean\u001b[0m\u001b[1;33m(\u001b[0m\u001b[1;36m2\u001b[0m\u001b[1;33m,\u001b[0m\u001b[1;36m3\u001b[0m\u001b[1;33m)\u001b[0m\u001b[1;33m\u001b[0m\u001b[0m\n\u001b[0m",
      "\u001b[0;31mNameError\u001b[0m: name 'mean' is not defined"
     ]
    }
   ],
   "source": [
    "print mean(2,3)"
   ]
  },
  {
   "cell_type": "code",
   "execution_count": 56,
   "metadata": {
    "collapsed": true
   },
   "outputs": [],
   "source": [
    "import math"
   ]
  },
  {
   "cell_type": "code",
   "execution_count": 57,
   "metadata": {
    "collapsed": false
   },
   "outputs": [
    {
     "ename": "AttributeError",
     "evalue": "'module' object has no attribute 'mean'",
     "output_type": "error",
     "traceback": [
      "\u001b[0;31m---------------------------------------------------------------------------\u001b[0m",
      "\u001b[0;31mAttributeError\u001b[0m                            Traceback (most recent call last)",
      "\u001b[0;32m<ipython-input-57-cc57f1f2b00e>\u001b[0m in \u001b[0;36m<module>\u001b[0;34m()\u001b[0m\n\u001b[0;32m----> 1\u001b[0;31m \u001b[1;32mprint\u001b[0m \u001b[0mmath\u001b[0m\u001b[1;33m.\u001b[0m\u001b[0mmean\u001b[0m\u001b[1;33m(\u001b[0m\u001b[1;36m2\u001b[0m\u001b[1;33m,\u001b[0m\u001b[1;36m3\u001b[0m\u001b[1;33m)\u001b[0m\u001b[1;33m\u001b[0m\u001b[0m\n\u001b[0m",
      "\u001b[0;31mAttributeError\u001b[0m: 'module' object has no attribute 'mean'"
     ]
    }
   ],
   "source": [
    "print math.mean(2,3)"
   ]
  },
  {
   "cell_type": "code",
   "execution_count": 58,
   "metadata": {
    "collapsed": false
   },
   "outputs": [
    {
     "ename": "AttributeError",
     "evalue": "'list' object has no attribute 'mean'",
     "output_type": "error",
     "traceback": [
      "\u001b[0;31m---------------------------------------------------------------------------\u001b[0m",
      "\u001b[0;31mAttributeError\u001b[0m                            Traceback (most recent call last)",
      "\u001b[0;32m<ipython-input-58-b008114bd8eb>\u001b[0m in \u001b[0;36m<module>\u001b[0;34m()\u001b[0m\n\u001b[1;32m      1\u001b[0m \u001b[0ma\u001b[0m\u001b[1;33m=\u001b[0m\u001b[1;33m[\u001b[0m\u001b[1;36m2\u001b[0m\u001b[1;33m,\u001b[0m\u001b[1;36m3\u001b[0m\u001b[1;33m]\u001b[0m\u001b[1;33m\u001b[0m\u001b[0m\n\u001b[0;32m----> 2\u001b[0;31m \u001b[1;32mprint\u001b[0m \u001b[0ma\u001b[0m\u001b[1;33m.\u001b[0m\u001b[0mmean\u001b[0m\u001b[1;33m(\u001b[0m\u001b[1;33m)\u001b[0m\u001b[1;33m\u001b[0m\u001b[0m\n\u001b[0m",
      "\u001b[0;31mAttributeError\u001b[0m: 'list' object has no attribute 'mean'"
     ]
    }
   ],
   "source": [
    "a=[2,3]\n",
    "print a.mean()"
   ]
  },
  {
   "cell_type": "code",
   "execution_count": 59,
   "metadata": {
    "collapsed": false
   },
   "outputs": [
    {
     "name": "stdout",
     "output_type": "stream",
     "text": [
      "6.4\n"
     ]
    }
   ],
   "source": [
    "a= '6.4-9.0'\n",
    "print a.split('-')[0]"
   ]
  },
  {
   "cell_type": "code",
   "execution_count": 63,
   "metadata": {
    "collapsed": false
   },
   "outputs": [
    {
     "name": "stdout",
     "output_type": "stream",
     "text": [
      "2.5\n"
     ]
    }
   ],
   "source": [
    "print np.mean([2,3])"
   ]
  },
  {
   "cell_type": "code",
   "execution_count": 64,
   "metadata": {
    "collapsed": false
   },
   "outputs": [
    {
     "name": "stdout",
     "output_type": "stream",
     "text": [
      "                  Category Parameter     2001     2002     2003     2004  \\\n",
      "1        Ganga, 2525*, 57#        pH  6.1-9.0  6.4-9.0  6.8-8.9    7-8.8   \n",
      "9       Yamuna, 1376*, 27#        pH    6.1-9  6.7-9.8   6.6-10    6.8-9   \n",
      "17     Narmada, 1312*, 21#        pH    7-8.6  6.9-9.3  7.1-8.5    7-8.6   \n",
      "25    Godawari, 1465*, 35#        pH  6.9-8.8      7-9  7.1-8.7    6.5-9   \n",
      "33     Krishna, 1401*, 24#        pH      7-9  6.8-9.5  6.7-8.9    6.7-9   \n",
      "41      Cauvery, 800*, 29#        pH    7-8.9    2-9.2    7-9.2    6.6-9   \n",
      "49     Mahanadi, 851*, 22#        pH      7-9  7.3-8.9  6.5-8.6  6.3-8.8   \n",
      "57  Brahmaputra, 916*, 10#        pH    7-8.4    6.5-9  6.4-8.4    5.2-9   \n",
      "\n",
      "       2005       2006      2007     2008     2009      2010       2011  \\\n",
      "1     6.1-9   7.0-8.88   6.1-8.8  6.1-8.9  6.5-8.9   6.7-9.0  6.7 - 9.1   \n",
      "9   6.8-9.1   7.14-9.5     5-8.4  6.8-9.5  7.0-8.8  6.1 -9.4  6.9 - 8.8   \n",
      "17    3.3-9    7.1-8.6   7.5-8.8   6.8-10  6.5-8.9   7.2-8.5  7.1 - 8.6   \n",
      "25  6.7-9.1  6.65-9.11   5.9-8.9  5.2-9.6    6-9.2   5.4-8.9    6.4-9.1   \n",
      "33  6.5-9.9  6.32-9.30   6.2-9.1  5.8-8.9  6.7-9.0   6.5-9.1   6.9 -8.7   \n",
      "41  6.2-9.5      7-9.3   6.5-8.8  6.5-8.8  6.5-8.9   6.5-8.9    4.3-8.9   \n",
      "49  6.1-8.7   6.97-8.9  7.3-8.54  6.7-8.8  6.7-8.8   7.0-9.3    7.1-8.5   \n",
      "57  5.9-7.6      6.9-8   5.9-7.9  6.1-8.1  6.1-8.1   6.5-8.1   6.1 -8.5   \n",
      "\n",
      "    Unnamed: 13  Unnamed: 14  \n",
      "1           NaN          NaN  \n",
      "9           NaN          NaN  \n",
      "17          NaN          NaN  \n",
      "25          NaN          NaN  \n",
      "33          NaN          NaN  \n",
      "41          NaN          NaN  \n",
      "49          NaN          NaN  \n",
      "57          NaN          NaN  \n"
     ]
    }
   ],
   "source": [
    "print ph_river_data"
   ]
  },
  {
   "cell_type": "code",
   "execution_count": 66,
   "metadata": {
    "collapsed": false
   },
   "outputs": [
    {
     "name": "stdout",
     "output_type": "stream",
     "text": [
      "1    6.1-9.0\n",
      "Name: 2001, dtype: object\n"
     ]
    }
   ],
   "source": [
    "print ph_river_data[ph_river_data['Category'] == 'Ganga, 2525*, 57#']['2001']"
   ]
  },
  {
   "cell_type": "code",
   "execution_count": 67,
   "metadata": {
    "collapsed": true
   },
   "outputs": [],
   "source": [
    "for river in ph_river_data['Category']:\n",
    "    river = river.split('-')[0]"
   ]
  },
  {
   "cell_type": "code",
   "execution_count": 68,
   "metadata": {
    "collapsed": false
   },
   "outputs": [
    {
     "name": "stdout",
     "output_type": "stream",
     "text": [
      "1          Ganga, 2525*, 57#\n",
      "9         Yamuna, 1376*, 27#\n",
      "17       Narmada, 1312*, 21#\n",
      "25      Godawari, 1465*, 35#\n",
      "33       Krishna, 1401*, 24#\n",
      "41        Cauvery, 800*, 29#\n",
      "49       Mahanadi, 851*, 22#\n",
      "57    Brahmaputra, 916*, 10#\n",
      "Name: Category, dtype: object\n"
     ]
    }
   ],
   "source": [
    "print ph_river_data['Category']"
   ]
  },
  {
   "cell_type": "code",
   "execution_count": 69,
   "metadata": {
    "collapsed": false
   },
   "outputs": [
    {
     "ename": "AttributeError",
     "evalue": "'Series' object has no attribute 'split'",
     "output_type": "error",
     "traceback": [
      "\u001b[0;31m---------------------------------------------------------------------------\u001b[0m",
      "\u001b[0;31mAttributeError\u001b[0m                            Traceback (most recent call last)",
      "\u001b[0;32m<ipython-input-69-51acfdcbea5a>\u001b[0m in \u001b[0;36m<module>\u001b[0;34m()\u001b[0m\n\u001b[0;32m----> 1\u001b[0;31m \u001b[0mph_river_data\u001b[0m\u001b[1;33m[\u001b[0m\u001b[1;34m'Category'\u001b[0m\u001b[1;33m]\u001b[0m \u001b[1;33m=\u001b[0m \u001b[0mph_river_data\u001b[0m\u001b[1;33m[\u001b[0m\u001b[1;34m'Category'\u001b[0m\u001b[1;33m]\u001b[0m\u001b[1;33m.\u001b[0m\u001b[0msplit\u001b[0m\u001b[1;33m(\u001b[0m\u001b[1;34m'-'\u001b[0m\u001b[1;33m)\u001b[0m\u001b[1;33m[\u001b[0m\u001b[1;36m0\u001b[0m\u001b[1;33m]\u001b[0m\u001b[1;33m\u001b[0m\u001b[0m\n\u001b[0m",
      "\u001b[0;32mC:\\Users\\Ashish Agrawal\\Anaconda2\\lib\\site-packages\\pandas\\core\\generic.pyc\u001b[0m in \u001b[0;36m__getattr__\u001b[0;34m(self, name)\u001b[0m\n\u001b[1;32m   2670\u001b[0m             \u001b[1;32mif\u001b[0m \u001b[0mname\u001b[0m \u001b[1;32min\u001b[0m \u001b[0mself\u001b[0m\u001b[1;33m.\u001b[0m\u001b[0m_info_axis\u001b[0m\u001b[1;33m:\u001b[0m\u001b[1;33m\u001b[0m\u001b[0m\n\u001b[1;32m   2671\u001b[0m                 \u001b[1;32mreturn\u001b[0m \u001b[0mself\u001b[0m\u001b[1;33m[\u001b[0m\u001b[0mname\u001b[0m\u001b[1;33m]\u001b[0m\u001b[1;33m\u001b[0m\u001b[0m\n\u001b[0;32m-> 2672\u001b[0;31m             \u001b[1;32mreturn\u001b[0m \u001b[0mobject\u001b[0m\u001b[1;33m.\u001b[0m\u001b[0m__getattribute__\u001b[0m\u001b[1;33m(\u001b[0m\u001b[0mself\u001b[0m\u001b[1;33m,\u001b[0m \u001b[0mname\u001b[0m\u001b[1;33m)\u001b[0m\u001b[1;33m\u001b[0m\u001b[0m\n\u001b[0m\u001b[1;32m   2673\u001b[0m \u001b[1;33m\u001b[0m\u001b[0m\n\u001b[1;32m   2674\u001b[0m     \u001b[1;32mdef\u001b[0m \u001b[0m__setattr__\u001b[0m\u001b[1;33m(\u001b[0m\u001b[0mself\u001b[0m\u001b[1;33m,\u001b[0m \u001b[0mname\u001b[0m\u001b[1;33m,\u001b[0m \u001b[0mvalue\u001b[0m\u001b[1;33m)\u001b[0m\u001b[1;33m:\u001b[0m\u001b[1;33m\u001b[0m\u001b[0m\n",
      "\u001b[0;31mAttributeError\u001b[0m: 'Series' object has no attribute 'split'"
     ]
    }
   ],
   "source": [
    "ph_river_data['Category'] = ph_river_data['Category'].split('-')[0]"
   ]
  },
  {
   "cell_type": "code",
   "execution_count": 70,
   "metadata": {
    "collapsed": false
   },
   "outputs": [
    {
     "ename": "AttributeError",
     "evalue": "'DataFrame' object has no attribute 'row'",
     "output_type": "error",
     "traceback": [
      "\u001b[0;31m---------------------------------------------------------------------------\u001b[0m",
      "\u001b[0;31mAttributeError\u001b[0m                            Traceback (most recent call last)",
      "\u001b[0;32m<ipython-input-70-bad3f878dbe6>\u001b[0m in \u001b[0;36m<module>\u001b[0;34m()\u001b[0m\n\u001b[0;32m----> 1\u001b[0;31m river_data = pd.DataFrame(river_data.row.str.split('-',1).tolist(),\n\u001b[0m\u001b[1;32m      2\u001b[0m                                    columns = ['flips','row'])\n",
      "\u001b[0;32mC:\\Users\\Ashish Agrawal\\Anaconda2\\lib\\site-packages\\pandas\\core\\generic.pyc\u001b[0m in \u001b[0;36m__getattr__\u001b[0;34m(self, name)\u001b[0m\n\u001b[1;32m   2670\u001b[0m             \u001b[1;32mif\u001b[0m \u001b[0mname\u001b[0m \u001b[1;32min\u001b[0m \u001b[0mself\u001b[0m\u001b[1;33m.\u001b[0m\u001b[0m_info_axis\u001b[0m\u001b[1;33m:\u001b[0m\u001b[1;33m\u001b[0m\u001b[0m\n\u001b[1;32m   2671\u001b[0m                 \u001b[1;32mreturn\u001b[0m \u001b[0mself\u001b[0m\u001b[1;33m[\u001b[0m\u001b[0mname\u001b[0m\u001b[1;33m]\u001b[0m\u001b[1;33m\u001b[0m\u001b[0m\n\u001b[0;32m-> 2672\u001b[0;31m             \u001b[1;32mreturn\u001b[0m \u001b[0mobject\u001b[0m\u001b[1;33m.\u001b[0m\u001b[0m__getattribute__\u001b[0m\u001b[1;33m(\u001b[0m\u001b[0mself\u001b[0m\u001b[1;33m,\u001b[0m \u001b[0mname\u001b[0m\u001b[1;33m)\u001b[0m\u001b[1;33m\u001b[0m\u001b[0m\n\u001b[0m\u001b[1;32m   2673\u001b[0m \u001b[1;33m\u001b[0m\u001b[0m\n\u001b[1;32m   2674\u001b[0m     \u001b[1;32mdef\u001b[0m \u001b[0m__setattr__\u001b[0m\u001b[1;33m(\u001b[0m\u001b[0mself\u001b[0m\u001b[1;33m,\u001b[0m \u001b[0mname\u001b[0m\u001b[1;33m,\u001b[0m \u001b[0mvalue\u001b[0m\u001b[1;33m)\u001b[0m\u001b[1;33m:\u001b[0m\u001b[1;33m\u001b[0m\u001b[0m\n",
      "\u001b[0;31mAttributeError\u001b[0m: 'DataFrame' object has no attribute 'row'"
     ]
    }
   ],
   "source": [
    "river_data = pd.DataFrame(river_data.row.str.split('-',1).tolist(),\n",
    "                                   columns = ['flips','row'])"
   ]
  },
  {
   "cell_type": "code",
   "execution_count": null,
   "metadata": {
    "collapsed": true
   },
   "outputs": [],
   "source": []
  }
 ],
 "metadata": {
  "anaconda-cloud": {},
  "kernelspec": {
   "display_name": "Python [conda root]",
   "language": "python",
   "name": "conda-root-py"
  },
  "language_info": {
   "codemirror_mode": {
    "name": "ipython",
    "version": 2
   },
   "file_extension": ".py",
   "mimetype": "text/x-python",
   "name": "python",
   "nbconvert_exporter": "python",
   "pygments_lexer": "ipython2",
   "version": "2.7.12"
  }
 },
 "nbformat": 4,
 "nbformat_minor": 1
}
