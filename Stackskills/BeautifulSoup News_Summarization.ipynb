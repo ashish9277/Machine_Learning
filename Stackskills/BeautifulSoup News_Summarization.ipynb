{
 "cells": [
  {
   "cell_type": "code",
   "execution_count": 1,
   "metadata": {
    "collapsed": false
   },
   "outputs": [
    {
     "name": "stdout",
     "output_type": "stream",
     "text": [
      "[nltk_data] Downloading package stopwords to C:\\Users\\Ashish\n",
      "[nltk_data]     Agrawal\\AppData\\Roaming\\nltk_data...\n",
      "[nltk_data]   Package stopwords is already up-to-date!\n"
     ]
    },
    {
     "data": {
      "text/plain": [
       "True"
      ]
     },
     "execution_count": 1,
     "metadata": {},
     "output_type": "execute_result"
    }
   ],
   "source": [
    "#\n",
    "\n",
    "import nltk\n",
    "nltk.download('stopwords')\n",
    "\n"
   ]
  },
  {
   "cell_type": "code",
   "execution_count": 2,
   "metadata": {
    "collapsed": false
   },
   "outputs": [
    {
     "name": "stdout",
     "output_type": "stream",
     "text": [
      "[nltk_data] Downloading package punkt to C:\\Users\\Ashish\n",
      "[nltk_data]     Agrawal\\AppData\\Roaming\\nltk_data...\n",
      "[nltk_data]   Package punkt is already up-to-date!\n"
     ]
    },
    {
     "data": {
      "text/plain": [
       "True"
      ]
     },
     "execution_count": 2,
     "metadata": {},
     "output_type": "execute_result"
    }
   ],
   "source": [
    "nltk.download('punkt')"
   ]
  },
  {
   "cell_type": "code",
   "execution_count": 3,
   "metadata": {
    "collapsed": true
   },
   "outputs": [],
   "source": [
    "from nltk.tokenize import sent_tokenize, word_tokenize\n",
    "from nltk.corpus import stopwords\n",
    "\n"
   ]
  },
  {
   "cell_type": "code",
   "execution_count": 4,
   "metadata": {
    "collapsed": true
   },
   "outputs": [],
   "source": [
    "from collections import defaultdict\n"
   ]
  },
  {
   "cell_type": "code",
   "execution_count": 5,
   "metadata": {
    "collapsed": true
   },
   "outputs": [],
   "source": [
    "from string import punctuation\n",
    "\n",
    "from heapq import nlargest"
   ]
  },
  {
   "cell_type": "code",
   "execution_count": 11,
   "metadata": {
    "collapsed": true
   },
   "outputs": [],
   "source": [
    "class FrequencySummarizer:\n",
    "    def __init__ (self, min_cut=0.1 , max_cut=0.9):\n",
    "        self._min_cut = min_cut\n",
    "        self._max_cut = max_cut\n",
    "        self._stopwords = set(stopwords.words('english') + list(punctuation))\n",
    "        \n",
    "    def _compute_frequencies(self, word_sent):\n",
    "        freq = defaultdict(int)\n",
    "        for sentence in word_sent:\n",
    "            \n",
    "            for word in sentence:\n",
    "                if word not in self._stopwords:\n",
    "                    freq[word]+=1\n",
    "        \n",
    "        max_freq = float(max(freq.values()))\n",
    "    \n",
    "        for word in freq.keys():\n",
    "            freq[word] = freq[word]/max_freq\n",
    "            if freq[word] >= self._max_cut or freq[word] <= self._min_cut:\n",
    "                del freq[word]\n",
    "            \n",
    "        return freq\n",
    "                     \n",
    "            \n",
    "    def summarize(self , text , n):\n",
    "        \n",
    "        \n",
    "        sents = sent_tokenize(text)\n",
    "        assert n <= len(sents)\n",
    "        \n",
    "        word_sent = [word_tokenize(s.lower()) for s in sents]\n",
    "        self._freq = self._compute_frequencies(word_sent)\n",
    "        \n",
    "        \n",
    "        rankings = defaultdict(int)\n",
    "        \n",
    "        for i,sent in enumerate(word_sent):\n",
    "            for word in sent:\n",
    "                \n",
    "                \n",
    "                if word in self._freq:\n",
    "                    rankings[i] += self._freq[word]\n",
    "        sents_idx = nlargest(n, rankings , key=rankings.get) \n",
    "        return [sents[j] for j in sents_idx] \n",
    "    \n",
    "\n",
    "    \n"
   ]
  },
  {
   "cell_type": "code",
   "execution_count": 7,
   "metadata": {
    "collapsed": true
   },
   "outputs": [],
   "source": [
    "from bs4 import BeautifulSoup\n",
    "import urllib2\n",
    "\n",
    "def get_only_text(url):\n",
    "    text = urllib2.urlopen(url).read().decode('utf-8')\n",
    "    #the full page\n",
    "    soup = BeautifulSoup(text)\n",
    "    article_text = ' '.join(map(lambda p: p.text, soup.find_all('article')))\n",
    "    \n",
    "    soup2 = BeautifulSoup(article_text)\n",
    "    text2 = ' '.join(map(lambda p: p.text, soup2.find_all('p')))\n",
    "    return soup.title.text , text2\n",
    "\n",
    "\n",
    "\n",
    "\n"
   ]
  },
  {
   "cell_type": "code",
   "execution_count": 9,
   "metadata": {
    "collapsed": false
   },
   "outputs": [
    {
     "name": "stdout",
     "output_type": "stream",
     "text": [
      "(u' Court officials blame software for wrongful arrests, other legal mishaps - The Washington Post', u\"(Alex Domanski/Reuters)  Wrongful arrests, delayed prison releases and other legal mishaps have been\\xa0caused by inaccurate records processed\\xa0by a\\xa0new court management software system installed in Alameda County, Calif., court officials say. It has gotten so bad that the public defender's office filed a motion last month\\xa0for the county court\\xa0to immediately fix\\xa0the problems caused by the county court's software system, called Odyssey Case Manager, or scrap\\xa0the system completely. A total of 26 separate incidents\\xa0were\\xa0documented in the motion, though Public Defender Brendon Woods\\xa0stressed that this was\\xa0\\u201cjust the tip of the iceberg\\u201d in terms of the number of people affected. \\u201cPeople\\u2019s lives are being drastically changed. This is something that needs to be fixed immediately and not later,\\u201d Woods said to The Washington Post. Odyssey\\xa0manages a court's logistics, keeping track of people who have entered the legal system and the status of their cases.\\xa0It's employed across 600 counties in 21 different states, serving\\xa0an estimated one-third of all courts in the country, according to the company behind the software, Tyler Technologies. For many courts, the digital record keeper is a welcome upgrade from aging computer systems and\\xa0paper files, and its popularity is an apparent testament to its workability. But when installed in Alameda County in August,\\xa0Woods said,\\xa0the new software caused a domino-like series of problems\\xa0on the court's digital\\xa0filings. As Woods described it, the biggest\\xa0issue\\xa0for the county stems from the user interface. Using Odyssey, he said, clerks\\xa0typically\\xa0take\\xa020 to 30 minutes to input all of the data needed to file a court action, such as an issued warrant or jail release. The old system took just\\xa0two to three\\xa0minutes per case. It has caused a backup in which\\xa0cases\\xa0aren't\\xa0updated on\\xa0time, causing, for example, a defendant\\xa0who had already shown up for his court date to be arrested again because his\\xa0case file showed\\xa0outdated information.\\xa0Incomplete filings are growing\\xa0by an estimated 200 to 300 a day, according to\\xa0Woods. Woods also said Odyssey's data is\\xa0not interacting correctly with other legal software\\xa0in the system. People who have been charged with drug offenses are showing up as sex offenders, Woods used as\\xa0an example. And some\\xa0cases already settled in the old system have shown up in the new system incorrectly. \\u201cThere are just so many levels to this problem it's hard to even quantify,\\u201d Woods said. \\u201cBut it's not a person\\u2019s fault. It\\u2019s a software problem.\\u201d Odyssey's problems haven't been limited to Alameda County.\\xa0In\\xa0Shelby County, Tenn., which also implemented Odyssey recently, a group of defendants filed a class action lawsuit against the sheriff alleging that they were held in jail past their release dates during a computer software upgrade, according to the Memphis Daily News. While county commissioners, who blamed Odyssey, at one point considered pursuing a\\xa0lawsuit against Tyler Technologies, the Memphis Daily News reported, the idea has been dropped. County commissioners say that they realized that delays were caused\\xa0by\\xa0integration of the new software into several existing systems\\xa0rather than glitches\\xa0or bugs with Odyssey itself. Two years ago in Marion County, Ind., a lawsuit was filed against the county jail by two inmates who claim that because of issues with the newly installed Odyssey software, they were held in jail for days after they were supposed to be released, according to the Indianapolis Star. The Marion County Sheriff's Office declined to comment on the pending case. Asked about the three counties' complaints,\\xa0Jeff Puckett, the president of Tyler Technologies's courts and justice division, said that in each of these cases, issues\\xa0stemmed from\\xa0different circumstances involving \\u201cfine-tuning\\u201d the software implementation and interaction with existing systems. \\u201cThis is not a new piece of software,\\u201d he said, adding that Tyler\\xa0has not been contacted by any of the three court systems about actual bugs or glitches. \\u201cTo draw a line from these problems to, 'Well, the software is broken or is not doing its job,' is just not a fair conclusion.\\u201d When pressed about whether Tyler could\\xa0provide better integration support to courts that use its software, Puckett said the question was asked under a \\u201cfalse premise.\\u201d \\u201cTyler's responsibility is limited to implementing the Odyssey courts system,\\u201d he said. He added that the company has a\\xa0support staff devoted to transitioning clients to use of their software. But for public defender Woods, it's less about who is to blame and more about\\xa0doing something to stop the problem. The county court has set a date in January to hear the public defender's motion, which Woods says is simply too far away. Last week, the defender's office filed a writ to an appellate court to grant their request to be heard before the January date. \\u201cTo anyone who says it's just a few issues, I\\xa0want them to come down and talk to the person who served 14 extra days illegally, tell them it's just a small crack in the system. Talk to my client who was jailed in front of their parent's house,\\u201d he said. \\u201cThey can\\u2019t quantify the human experience by saying it's a small number of cases,\\u201d he said. \\u201cPeople are suffering.\\u201d\")\n"
     ]
    }
   ],
   "source": [
    "someUrl = 'https://www.washingtonpost.com/news/the-switch/wp/2016/12/20/court-officials-blame-software-for-wrongful-arrests-other-legal-mishaps/?utm_term=.bc072460cbca'\n",
    "\n",
    "text_of_url =  get_only_text(someUrl)\n",
    "print (text_of_url)"
   ]
  },
  {
   "cell_type": "code",
   "execution_count": 16,
   "metadata": {
    "collapsed": false
   },
   "outputs": [],
   "source": [
    "fs = FrequencySummarizer()\n",
    "summary = fs.summarize(text_of_url[1], 1)"
   ]
  },
  {
   "cell_type": "code",
   "execution_count": 17,
   "metadata": {
    "collapsed": false
   },
   "outputs": [
    {
     "name": "stdout",
     "output_type": "stream",
     "text": [
      "[u\"It has gotten so bad that the public defender's office filed a motion last month\\xa0for the county court\\xa0to immediately fix\\xa0the problems caused by the county court's software system, called Odyssey Case Manager, or scrap\\xa0the system completely.\"]\n"
     ]
    }
   ],
   "source": [
    "print (summary)"
   ]
  },
  {
   "cell_type": "code",
   "execution_count": null,
   "metadata": {
    "collapsed": true
   },
   "outputs": [],
   "source": []
  }
 ],
 "metadata": {
  "anaconda-cloud": {},
  "kernelspec": {
   "display_name": "Python [conda root]",
   "language": "python",
   "name": "conda-root-py"
  },
  "language_info": {
   "codemirror_mode": {
    "name": "ipython",
    "version": 2
   },
   "file_extension": ".py",
   "mimetype": "text/x-python",
   "name": "python",
   "nbconvert_exporter": "python",
   "pygments_lexer": "ipython2",
   "version": "2.7.12"
  }
 },
 "nbformat": 4,
 "nbformat_minor": 1
}
