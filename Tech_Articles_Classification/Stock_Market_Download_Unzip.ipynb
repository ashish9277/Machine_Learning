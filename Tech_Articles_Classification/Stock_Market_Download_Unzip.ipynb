{
 "cells": [
  {
   "cell_type": "code",
   "execution_count": 2,
   "metadata": {
    "collapsed": true
   },
   "outputs": [],
   "source": [
    "import urllib2\n",
    "import xlsxwriter"
   ]
  },
  {
   "cell_type": "code",
   "execution_count": 3,
   "metadata": {
    "collapsed": true
   },
   "outputs": [],
   "source": [
    "url_of_file = 'https://www.nseindia.com/content/historical/EQUITIES/2016/DEC/cm20DEC2016bhav.csv.zip'\n",
    "\n",
    "path_of_file = 'C:\\\\Users\\\\Ashish Agrawal\\\\Documents\\\\Data_Science_Scripts\\\\Stackskills\\\\cm20DEC2016bhav.csv.zip'\n",
    "\n"
   ]
  },
  {
   "cell_type": "code",
   "execution_count": 9,
   "metadata": {
    "collapsed": false
   },
   "outputs": [
    {
     "data": {
      "text/plain": [
       "{'Accept': 'text/html, application/xhtml+xml,application/xml;q=0.9,*/*q=0.8',\n",
       " 'Accept-Charset': 'ISO-8859-1;utf-8,q=0.7,*;q=0.3',\n",
       " 'Accept-Encoding': 'none',\n",
       " 'Accept-Language': 'en-US,en;q=0.8',\n",
       " 'Connection': 'keep-alive',\n",
       " 'User-Agent': 'Mozilla/5.0 (X11; Linux x86_64) AppleWebKit/537.11 (KHTML, like Gecko) Chrome/23.0.1271.64 Safari/537.11'}"
      ]
     },
     "execution_count": 9,
     "metadata": {},
     "output_type": "execute_result"
    }
   ],
   "source": [
    "hdr = {'User-Agent':'Mozilla/5.0 (X11; Linux x86_64) AppleWebKit/537.11 (KHTML, like Gecko) Chrome/23.0.1271.64 Safari/537.11',\n",
    "      'Accept': 'text/html, application/xhtml+xml,application/xml;q=0.9,*/*q=0.8',\n",
    "       'Accept-Charset':'ISO-8859-1;utf-8,q=0.7,*;q=0.3',\n",
    "       'Accept-Encoding':'none',\n",
    "       'Accept-Language':'en-US,en;q=0.8',\n",
    "       'Connection':'keep-alive'\n",
    "      }\n",
    "\n",
    "\n",
    "hdr"
   ]
  },
  {
   "cell_type": "code",
   "execution_count": 10,
   "metadata": {
    "collapsed": true
   },
   "outputs": [],
   "source": [
    "webrequest = urllib2.Request(url_of_file, headers=hdr)"
   ]
  },
  {
   "cell_type": "code",
   "execution_count": 11,
   "metadata": {
    "collapsed": false
   },
   "outputs": [],
   "source": [
    "try:\n",
    "    page = urllib2.urlopen(webrequest)\n",
    "    content = page.read()\n",
    "    output = open(path_of_file, 'wb')\n",
    "    output.write(bytearray(content))\n",
    "    output.close()\n",
    "    \n",
    "except urllib2.HTTPError, e:\n",
    "    print 'Error downloading the file', e.fp.read()\n",
    "    "
   ]
  },
  {
   "cell_type": "code",
   "execution_count": 14,
   "metadata": {
    "collapsed": false
   },
   "outputs": [
    {
     "name": "stdout",
     "output_type": "stream",
     "text": [
      "No of files extracted 1\n"
     ]
    }
   ],
   "source": [
    "import zipfile, os\n",
    "\n",
    "localExtractpath = 'C:\\\\Users\\\\Ashish Agrawal\\\\Documents\\\\Data_Science_Scripts\\\\Stackskills\\\\'\n",
    "\n",
    "listofFiles = []\n",
    "\n",
    "fh= open(path_of_file,'rb')\n",
    "\n",
    "zipFileHandler = zipfile.ZipFile(fh)\n",
    "\n",
    "for filename in zipFileHandler.namelist():\n",
    "    zipFileHandler.extract(filename,localExtractpath)\n",
    "    listofFiles.append(localExtractpath + filename)\n",
    "    \n",
    "print 'No of files extracted' , len(listofFiles)\n",
    "fh.close()"
   ]
  },
  {
   "cell_type": "code",
   "execution_count": null,
   "metadata": {
    "collapsed": true
   },
   "outputs": [],
   "source": [
    "import csv\n",
    "\n",
    "oneFileName = listofFiles[0]\n",
    "lineNum = 0\n",
    "\n",
    "listOfLists= []\n",
    "\n",
    "with open(oneFileName , 'rb') as csvFile:\n",
    "    lineReader = csv.reader(csvFile, delimiter = ',' , quotechar = \"\\\"\")\n",
    "    "
   ]
  }
 ],
 "metadata": {
  "anaconda-cloud": {},
  "kernelspec": {
   "display_name": "Python [conda root]",
   "language": "python",
   "name": "conda-root-py"
  },
  "language_info": {
   "codemirror_mode": {
    "name": "ipython",
    "version": 2
   },
   "file_extension": ".py",
   "mimetype": "text/x-python",
   "name": "python",
   "nbconvert_exporter": "python",
   "pygments_lexer": "ipython2",
   "version": "2.7.12"
  }
 },
 "nbformat": 4,
 "nbformat_minor": 1
}
